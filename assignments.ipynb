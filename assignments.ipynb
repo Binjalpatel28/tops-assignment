{
 "cells": [
  {
   "cell_type": "code",
   "execution_count": 1,
   "id": "7ccc8768",
   "metadata": {},
   "outputs": [],
   "source": [
    "#What is Software?\n",
    "software is a collection of programs, data, instructions, scripts used to operate a computer specific tasks.\n",
    "user can also interact with computer easily using software. "
   ]
  },
  {
   "cell_type": "code",
   "execution_count": null,
   "id": "3006d40b",
   "metadata": {},
   "outputs": [],
   "source": [
    "#What are the types of Applications?\n",
    "There are different types of applications such as web applications, native applications, hybrid applications, \n",
    "progressive applications and game applications."
   ]
  },
  {
   "cell_type": "code",
   "execution_count": null,
   "id": "dc9073f9",
   "metadata": {},
   "outputs": [],
   "source": [
    "#What is programing?\n",
    "programming is giving a set of instructions to a computer to a execute. Programming involves tasks such as analysis, generating \n",
    "algorithms, profiling algorithms accuracy and resource consumption, and the implementation of algorithms.\n"
   ]
  },
  {
   "cell_type": "code",
   "execution_count": null,
   "id": "b129b952",
   "metadata": {},
   "outputs": [],
   "source": [
    "#What is Python?\n",
    "python is an interpreted, object-oriented, high-level programming language with dynamic semantics. Python supports modules and\n",
    "packages, which encourages program modularity and code reuse.Python supports modules and packages, which encourages program\n",
    "modularity and code reuse."
   ]
  },
  {
   "cell_type": "code",
<<<<<<< HEAD
   "execution_count": 2,
   "id": "95615442",
   "metadata": {},
   "outputs": [
    {
     "name": "stdout",
     "output_type": "stream",
     "text": [
      "enter the number:12\n",
      "number is positive\n"
     ]
    }
   ],
   "source": [
    "#Write a Python program to check if a number is positive, negative or zero.\n",
    "\n",
    "num=int(input(\"enter the Number:\"))\n",
    "if(num>0):\n",
    "    print(\"number is positive\")\n",
    "elif(num<0):\n",
    "    print(\"number is negative\") \n",
    "elif(num==0):\n",
    "    print(\"number is zero\")\n"
   ]
  },
  {
   "cell_type": "code",
   "execution_count": 1,
   "id": "24b0f32e",
   "metadata": {},
   "outputs": [
    {
     "name": "stdout",
     "output_type": "stream",
     "text": [
      "Enter the Number:7\n",
      "The factorial of 7 is 1\n",
      "The factorial of 7 is 2\n",
      "The factorial of 7 is 6\n",
      "The factorial of 7 is 24\n",
      "The factorial of 7 is 120\n",
      "The factorial of 7 is 720\n",
      "The factorial of 7 is 5040\n"
     ]
    }
   ],
   "source": [
    "#Write a Python program to get the Factorial number of given number.\n",
    "    \n",
    "num=int(input(\"Enter the Number:\"))    \n",
    "fact=1\n",
    "if(num<0):\n",
    "    print(\"Factorial does not exist for a negative number\")\n",
    "elif(num==0):\n",
    "    print(\"The factorial of 0 is 1\")\n",
    "for i in range(1,num+1):\n",
    "    fact=fact*i\n",
    "    print(\"The factorial of\",num,\"is\",fact)"
   ]
  },
  {
   "cell_type": "code",
   "execution_count": 2,
   "id": "1ebf6c6c",
   "metadata": {},
   "outputs": [
    {
     "name": "stdout",
     "output_type": "stream",
     "text": [
      "Enter the Number:6\n",
      "fibonacii series sequence\n",
      "0\n",
      "1\n",
      "1\n",
      "2\n",
      "3\n",
      "5\n"
     ]
    }
   ],
   "source": [
    "#Write a Python program to get the Fibonacci series of given range.\n",
    "num=int(input(\"Enter the Number:\"))\n",
    "n1,n2=0,1\n",
    "i=0\n",
    "if(num<0):\n",
    "    print(\"fibonacii series can not start with minus values\")\n",
    "elif(num==1):\n",
    "    print(\"fibonacii series upto 1\",num)\n",
    "    print(n1)\n",
    "else:\n",
    "    print(\"fibonacii series sequence\")\n",
    "    for i in range(num):\n",
    "        print(n1)\n",
    "        fibo=n1+n2\n",
    "        n1=n2\n",
    "        n2=fibo\n",
    "        i+=1\n"
   ]
  },
  {
   "cell_type": "code",
   "execution_count": null,
   "id": "f9489e44",
   "metadata": {},
   "outputs": [],
   "source": [
    "#How memory is managed in Python?\n"
   ]
  },
  {
   "cell_type": "code",
   "execution_count": null,
   "id": "0091e7ac",
   "metadata": {},
   "outputs": [],
   "source": [
    "# What is the purpose continue statement in python?\n"
   ]
  },
  {
   "cell_type": "code",
   "execution_count": 3,
   "id": "b6ab8983",
   "metadata": {},
   "outputs": [
    {
     "name": "stdout",
     "output_type": "stream",
     "text": [
      "enter the value of x:5\n",
      "enter the value of y:10\n",
      "after swapping the x is: 10\n",
      "after swapping the y is: 5\n"
     ]
    }
   ],
   "source": [
    "#Write python program that swap two number with temp variable and \n",
    "#without temp variable.\n",
    "\n",
    "#using temp variable\n",
    "\n",
    "x=int(input(\"enter the value of x:\"))\n",
    "y=int(input(\"enter the value of y:\"))\n",
    "temp=x\n",
    "x=y\n",
    "y=temp\n",
    "print(\"after swapping the x is:\",x)\n",
    "print(\"after swapping the y is:\",y)\n",
    "\n"
   ]
  },
  {
   "cell_type": "code",
   "execution_count": 4,
   "id": "68fe14e2",
   "metadata": {},
   "outputs": [
    {
     "name": "stdout",
     "output_type": "stream",
     "text": [
      "enter the value of x:6\n",
      "enter the value of y:9\n",
      "after swapping the x is: 9\n",
      "after swapping the y is: 6\n"
     ]
    }
   ],
   "source": [
    "#without using temp variable\n",
    "\n",
    "x=int(input(\"enter the value of x:\"))\n",
    "y=int(input(\"enter the value of y:\"))\n",
    "x=x+y\n",
    "y=x-y\n",
    "x=x-y\n",
    "print(\"after swapping the x is:\",x)\n",
    "print(\"after swapping the y is:\",y)\n",
    "\n",
    "\n"
   ]
  },
  {
   "cell_type": "code",
   "execution_count": 7,
   "id": "7bc34f80",
   "metadata": {},
   "outputs": [
    {
     "name": "stdout",
     "output_type": "stream",
     "text": [
      "enter the number:7\n",
      "number is odd\n"
     ]
    }
   ],
   "source": [
    "#Write a Python program to find whether a given number is even or odd, \n",
    "#print out an appropriate message to the user.\n",
    "\n",
    "num=int(input(\"enter the number:\"))\n",
    "if(num%2==0):\n",
    "    print(\"number is even\")\n",
    "else:\n",
    "    print(\"number is odd\")\n",
    "\n",
    "    "
   ]
  },
  {
   "cell_type": "code",
   "execution_count": null,
   "id": "ea48063c",
   "metadata": {},
   "outputs": [],
   "source": [
    "# Write a Python program to test whether a passed letter is a vowel or not."
   ]
  },
  {
   "cell_type": "code",
   "execution_count": null,
   "id": "72254d83",
   "metadata": {},
   "outputs": [],
   "source": [
    "# Write a Python program to sum of three given integers. However, if two values are equal sum will be zero. \n"
   ]
  },
  {
   "cell_type": "code",
   "execution_count": 1,
   "id": "a50558bd",
   "metadata": {},
   "outputs": [
    {
     "ename": "SyntaxError",
     "evalue": "invalid non-printable character U+F0B7 (4227998146.py, line 1)",
     "output_type": "error",
     "traceback": [
      "\u001b[1;36m  File \u001b[1;32m\"C:\\Users\\JEEYA\\AppData\\Local\\Temp\\ipykernel_7644\\4227998146.py\"\u001b[1;36m, line \u001b[1;32m1\u001b[0m\n\u001b[1;33m     Write a Python program to get the Factorial number of given number.\u001b[0m\n\u001b[1;37m    ^\u001b[0m\n\u001b[1;31mSyntaxError\u001b[0m\u001b[1;31m:\u001b[0m invalid non-printable character U+F0B7\n"
     ]
    }
   ],
   "source": [
    "\n",
    "\n",
    " Write a Python program to get the Factorial number of given number.\n",
    " Write a Python program to get the Fibonacci series of given range.\n",
    " How memory is managed in Python?\n",
    " What is the purpose continue statement in python?\n",
    " Write python program that swap two number with temp variable and \n",
    "without temp variable.\n",
    " Write a Python program to find whether a given number is even or odd, \n",
    "print out an appropriate message to the user.\n",
    " Write a Python program to test whether a passed letter is a vowel or \n",
    "not.\n",
    " Write a Python program to sum of three given integers. However, if \n",
    "two values are equal sum will be zero.\n",
    " Write a Python program that will return true if the two given integer \n",
    "values are equal or their sum or difference is 5.\n",
    " Write a python program to sum of the first n positive integers.\n",
    " Write a Python program to calculate the length of a string.\n",
    " Write a Python program to count the number of characters (character \n",
    "frequency) in a string\n",
    " What are negative indexes and why are they used?\n",
    " Write a Python program to count occurrences of a substring in a string.\n",
    " Write a Python program to count the occurrences of each word in a \n",
    "given sentence\n",
    " Write a Python program to get a single string from two given strings, \n",
    "separated by a space and swap the first two characters of each string.\n",
    " Write a Python program to add 'ing' at the end of a given string (length \n",
    "should be at least 3). If the given string already ends with 'ing' then add \n",
    "'ly' instead if the string length of the given string is less than 3, leave it \n",
    "unchanged.\n",
    " Write a Python program to find the first appearance of the substring \n",
    "'not' and 'poor' from a given string, if 'not' follows the 'poor', replace the \n",
    "whole 'not'...'poor' substring with 'good'. Return the resulting string.\n",
    " Write a Python function that takes a list of words and returns the length \n",
    "of the longest one.\n",
    " Write a Python function to reverses a string if its length is a multiple of \n",
    "4.\n",
    " Write a Python program to get a string made of the first 2 and the last \n",
    "2 chars from a given a string. If the string length is less than 2, return \n",
    "instead of the empty string.\n",
    " Write a Python function to insert a string in the middle of a string"
   ]
  },
  {
   "cell_type": "code",
   "execution_count": null,
   "id": "e37650f6",
   "metadata": {},
=======
   "execution_count": null,
   "id": "a50558bd",
   "metadata": {},
>>>>>>> 66f83eb29e6645252a8343c9babd5aa2929164d6
   "outputs": [],
   "source": []
  }
 ],
 "metadata": {
  "kernelspec": {
   "display_name": "Python 3 (ipykernel)",
   "language": "python",
   "name": "python3"
  },
  "language_info": {
   "codemirror_mode": {
    "name": "ipython",
    "version": 3
   },
   "file_extension": ".py",
   "mimetype": "text/x-python",
   "name": "python",
   "nbconvert_exporter": "python",
   "pygments_lexer": "ipython3",
   "version": "3.9.13"
  }
 },
 "nbformat": 4,
 "nbformat_minor": 5
}
