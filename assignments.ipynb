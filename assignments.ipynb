{
 "cells": [
  {
   "cell_type": "code",
   "execution_count": 1,
   "id": "7ccc8768",
   "metadata": {},
   "outputs": [],
   "source": [
    "#What is Software?\n",
    "software is a collection of programs, data, instructions, scripts used to operate a computer specific tasks.\n",
    "user can also interact with computer easily using software. "
   ]
  },
  {
   "cell_type": "code",
   "execution_count": null,
   "id": "3006d40b",
   "metadata": {},
   "outputs": [],
   "source": [
    "#What are the types of Applications?\n",
    "There are different types of applications such as web applications, native applications, hybrid applications, \n",
    "progressive applications and game applications."
   ]
  },
  {
   "cell_type": "code",
   "execution_count": null,
   "id": "dc9073f9",
   "metadata": {},
   "outputs": [],
   "source": [
    "#What is programing?\n",
    "programming is giving a set of instructions to a computer to a execute. Programming involves tasks such as analysis, generating \n",
    "algorithms, profiling algorithms accuracy and resource consumption, and the implementation of algorithms.\n"
   ]
  },
  {
   "cell_type": "code",
   "execution_count": null,
   "id": "b129b952",
   "metadata": {},
   "outputs": [],
   "source": [
    "#What is Python?\n",
    "python is an interpreted, object-oriented, high-level programming language with dynamic semantics. Python supports modules and\n",
    "packages, which encourages program modularity and code reuse.Python supports modules and packages, which encourages program\n",
    "modularity and code reuse."
   ]
  },
  {
   "cell_type": "code",
   "execution_count": null,
   "id": "a50558bd",
   "metadata": {},
   "outputs": [],
   "source": [
    "#Write a Python program to check if a number is positive, negative or zero.\n",
    "\n",
    "\n",
    " Write a Python program to get the Factorial number of given number.\n",
    " Write a Python program to get the Fibonacci series of given range.\n",
    " How memory is managed in Python?\n",
    " What is the purpose continue statement in python?\n",
    " Write python program that swap two number with temp variable and \n",
    "without temp variable.\n",
    " Write a Python program to find whether a given number is even or odd, \n",
    "print out an appropriate message to the user.\n",
    " Write a Python program to test whether a passed letter is a vowel or \n",
    "not.\n",
    " Write a Python program to sum of three given integers. However, if \n",
    "two values are equal sum will be zero.\n",
    " Write a Python program that will return true if the two given integer \n",
    "values are equal or their sum or difference is 5.\n",
    " Write a python program to sum of the first n positive integers.\n",
    " Write a Python program to calculate the length of a string.\n",
    " Write a Python program to count the number of characters (character \n",
    "frequency) in a string\n",
    " What are negative indexes and why are they used?\n",
    " Write a Python program to count occurrences of a substring in a string.\n",
    " Write a Python program to count the occurrences of each word in a \n",
    "given sentence\n",
    " Write a Python program to get a single string from two given strings, \n",
    "separated by a space and swap the first two characters of each string.\n",
    " Write a Python program to add 'ing' at the end of a given string (length \n",
    "should be at least 3). If the given string already ends with 'ing' then add \n",
    "'ly' instead if the string length of the given string is less than 3, leave it \n",
    "unchanged.\n",
    " Write a Python program to find the first appearance of the substring \n",
    "'not' and 'poor' from a given string, if 'not' follows the 'poor', replace the \n",
    "whole 'not'...'poor' substring with 'good'. Return the resulting string.\n",
    " Write a Python function that takes a list of words and returns the length \n",
    "of the longest one.\n",
    " Write a Python function to reverses a string if its length is a multiple of \n",
    "4.\n",
    " Write a Python program to get a string made of the first 2 and the last \n",
    "2 chars from a given a string. If the string length is less than 2, return \n",
    "instead of the empty string.\n",
    " Write a Python function to insert a string in the middle of a string"
   ]
  }
 ],
 "metadata": {
  "kernelspec": {
   "display_name": "Python 3 (ipykernel)",
   "language": "python",
   "name": "python3"
  },
  "language_info": {
   "codemirror_mode": {
    "name": "ipython",
    "version": 3
   },
   "file_extension": ".py",
   "mimetype": "text/x-python",
   "name": "python",
   "nbconvert_exporter": "python",
   "pygments_lexer": "ipython3",
   "version": "3.9.13"
  }
 },
 "nbformat": 4,
 "nbformat_minor": 5
}
