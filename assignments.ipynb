{
 "cells": [
  {
   "cell_type": "code",
   "execution_count": 1,
   "id": "7ccc8768",
   "metadata": {},
   "outputs": [],
   "source": [
    "#What is Software?\n",
    "software is a collection of programs, data, instructions, scripts used to operate a computer specific tasks.\n",
    "user can also interact with computer easily using software. "
   ]
  },
  {
   "cell_type": "code",
   "execution_count": null,
   "id": "3006d40b",
   "metadata": {},
   "outputs": [],
   "source": []
  }
 ],
 "metadata": {
  "kernelspec": {
   "display_name": "Python 3 (ipykernel)",
   "language": "python",
   "name": "python3"
  },
  "language_info": {
   "codemirror_mode": {
    "name": "ipython",
    "version": 3
   },
   "file_extension": ".py",
   "mimetype": "text/x-python",
   "name": "python",
   "nbconvert_exporter": "python",
   "pygments_lexer": "ipython3",
   "version": "3.9.13"
  }
 },
 "nbformat": 4,
 "nbformat_minor": 5
}
