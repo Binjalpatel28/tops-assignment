{
 "cells": [
  {
   "cell_type": "code",
   "execution_count": 1,
   "id": "7ccc8768",
   "metadata": {},
   "outputs": [],
   "source": [
    "#What is Software?\n",
    "software is a collection of programs, data, instructions, scripts used to operate a computer specific tasks.\n",
    "user can also interact with computer easily using software. "
   ]
  },
  {
   "cell_type": "code",
   "execution_count": null,
   "id": "3006d40b",
   "metadata": {},
   "outputs": [],
   "source": [
    "#What are the types of Applications?\n",
    "There are different types of applications such as web applications, native applications, hybrid applications, \n",
    "progressive applications and game applications."
   ]
  },
  {
   "cell_type": "code",
   "execution_count": null,
   "id": "dc9073f9",
   "metadata": {},
   "outputs": [],
   "source": [
    "#What is programing?\n",
    "programming is giving a set of instructions to a computer to a execute. Programming involves tasks such as analysis, generating \n",
    "algorithms, profiling algorithms accuracy and resource consumption, and the implementation of algorithms.\n"
   ]
  },
  {
   "cell_type": "code",
   "execution_count": null,
   "id": "b129b952",
   "metadata": {},
   "outputs": [],
   "source": [
    "#What is Python?\n",
    "python is an interpreted, object-oriented, high-level programming language with dynamic semantics. Python supports modules and\n",
    "packages, which encourages program modularity and code reuse.Python supports modules and packages, which encourages program\n",
    "modularity and code reuse."
   ]
  },
  {
   "cell_type": "code",
   "execution_count": null,
   "id": "a50558bd",
   "metadata": {},
   "outputs": [],
   "source": []
  }
 ],
 "metadata": {
  "kernelspec": {
   "display_name": "Python 3 (ipykernel)",
   "language": "python",
   "name": "python3"
  },
  "language_info": {
   "codemirror_mode": {
    "name": "ipython",
    "version": 3
   },
   "file_extension": ".py",
   "mimetype": "text/x-python",
   "name": "python",
   "nbconvert_exporter": "python",
   "pygments_lexer": "ipython3",
   "version": "3.9.13"
  }
 },
 "nbformat": 4,
 "nbformat_minor": 5
}
