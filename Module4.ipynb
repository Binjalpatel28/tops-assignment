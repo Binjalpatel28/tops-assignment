{
 "cells": [
  {
   "cell_type": "code",
   "execution_count": null,
   "id": "f22a6112",
   "metadata": {},
   "outputs": [],
   "source": [
    "#What is File function in python? What is keywords to create and write file. \n",
    "#file function is used for to operate a file in differnet modes like read, write, appened, open and close.\n",
    "#for creating a file use a append with mode 'a' and writting a  file use a write with mode 'w'.\n"
   ]
  },
  {
   "cell_type": "code",
   "execution_count": 16,
   "id": "320a4865",
   "metadata": {},
   "outputs": [
    {
     "name": "stdout",
     "output_type": "stream",
     "text": [
      "\n"
     ]
    }
   ],
   "source": [
    "#Write a Python program to read an entire text file.\n",
    "fp=open(\"demo.txt\",\"r\")\n",
    "for i in fp:\n",
    "    print (fp.readline())\n",
    "fp.close()"
   ]
  },
  {
   "cell_type": "code",
   "execution_count": 17,
   "id": "49d86847",
   "metadata": {},
   "outputs": [],
   "source": [
    "#Write a Python program to append text to a file and display the text.\n",
    "fp=open(\"demo.txt\",\"a\")\n",
    "fp.write(\"New contents added\\n newdata added\")\n",
    "fp.close()"
   ]
  },
  {
   "cell_type": "code",
   "execution_count": 18,
   "id": "3d7a3244",
   "metadata": {},
   "outputs": [
    {
     "name": "stdout",
     "output_type": "stream",
     "text": [
      "New contenets added\n",
      "New contents added\n",
      " newdata added\n",
      "\n"
     ]
    }
   ],
   "source": [
    "#Write a Python program to read first n lines of a file. \n",
    "fp=open(\"demo.txt\",\"r\")\n",
    "print(fp.read())\n",
    "print(fp.read(2))\n",
    "fp.close()"
   ]
  },
  {
   "cell_type": "code",
   "execution_count": null,
   "id": "e389c880",
   "metadata": {},
   "outputs": [],
   "source": [
    "#Write a Python program to read last n lines of a file. "
   ]
  },
  {
   "cell_type": "code",
   "execution_count": 22,
   "id": "795c3f2e",
   "metadata": {},
   "outputs": [
    {
     "name": "stdout",
     "output_type": "stream",
     "text": [
      "['file\\n', 'store\\n', 'list\\n']\n",
      "['file', 'store', 'list']\n"
     ]
    }
   ],
   "source": [
    "#Write a Python program to read a file line by line and store it into a list.\n",
    "  \n",
    "with open('demo.txt') as f:\n",
    "    lines = [line for line in f]\n",
    "print(lines)\n",
    " \n",
    "with open('demo.txt') as f:\n",
    "    lines = [line.rstrip() for line in f]\n",
    "print(lines)"
   ]
  },
  {
   "cell_type": "code",
   "execution_count": 25,
   "id": "cf5ba8f5",
   "metadata": {},
   "outputs": [
    {
     "name": "stdout",
     "output_type": "stream",
     "text": [
      "['file\\n', 'store\\n', 'list\\n']\n"
     ]
    }
   ],
   "source": [
    "#Write a Python program to read a file line by line store it into a variable. \n",
    "def file_read(fname):\n",
    "        with open (fname, \"r\") as myfile:\n",
    "                data=myfile.readlines()\n",
    "                print(data)\n",
    "file_read('demo.txt')"
   ]
  },
  {
   "cell_type": "code",
   "execution_count": 26,
   "id": "037bd97d",
   "metadata": {},
   "outputs": [
    {
     "name": "stdout",
     "output_type": "stream",
     "text": [
      "confident\n"
     ]
    }
   ],
   "source": [
    "#Write a python program to find the longest words. \n",
    "def longestword(s):\n",
    "    s=s.split()\n",
    "    print(max(s,key=len))\n",
    "if __name__ == \"__main__\":\n",
    "    s = \"be confident and be yourself\"\n",
    "    longestword(s)"
   ]
  },
  {
   "cell_type": "code",
   "execution_count": 28,
   "id": "a26119c3",
   "metadata": {},
   "outputs": [
    {
     "name": "stdout",
     "output_type": "stream",
     "text": [
      "This is the number of lines in the file\n",
      "3\n"
     ]
    }
   ],
   "source": [
    "#Write a Python program to count the number of lines in a text file. \n",
    "file = open(\"demo.txt\", \"r\")\n",
    "Counter = 0\n",
    "Content = file.read()\n",
    "CoList = Content.split(\"\\n\")\n",
    "for i in CoList:\n",
    "    if i:\n",
    "        Counter += 1\n",
    "print(\"This is the number of lines in the file\")\n",
    "print(Counter)"
   ]
  },
  {
   "cell_type": "code",
   "execution_count": 2,
   "id": "aec107b9",
   "metadata": {},
   "outputs": [
    {
     "name": "stdout",
     "output_type": "stream",
     "text": [
      "11\n"
     ]
    }
   ],
   "source": [
    "#Write a Python program to count the frequency of words in a file.\n",
    "number_of_words = 0\n",
    "with open(r'demo.txt','r') as file:\n",
    "    data = file.read()\n",
    "    lines = data.split()\n",
    "    for word in lines:\n",
    "    if not word.isnumeric():         \n",
    "            number_of_words += 1\n",
    "print(number_of_words)"
   ]
  },
  {
   "cell_type": "code",
   "execution_count": 7,
   "id": "cc7ff9b4",
   "metadata": {},
   "outputs": [],
   "source": [
    "#Writcolor = ['Red', 'Green', 'White', 'Black', 'Pink', 'Yellow']\n",
    "mobile = ['samsung', 'redmi', 'oneplus']\n",
    "\n",
    "# open a file named \"f1.txt\" in write mode\n",
    "file = open('demo.txt', 'w')\n",
    "\n",
    "# loop through the mobile phone list and write each item to the file\n",
    "for item in mobile:\n",
    "    file.writelines([item])\n",
    "\n",
    "# close the file\n",
    "file.close()"
   ]
  },
  {
   "cell_type": "code",
   "execution_count": 9,
   "id": "32054bc4",
   "metadata": {},
   "outputs": [],
   "source": [
    "#Write a Python program to copy the contents of a file to another file.\n",
    "with open('demo.txt','r') as firstfile, open('demo1.txt','w') as secondfile:\n",
    "    for line in firstfile:\n",
    "             secondfile.write(line)"
   ]
  },
  {
   "cell_type": "code",
   "execution_count": null,
   "id": "0943c1fc",
   "metadata": {},
   "outputs": [],
   "source": [
    "#Explain Exception handling? What is an Error in Python? \n",
    "#exceptions are raised when some internal events occur which changes the normal flow of the program. \n",
    "#Error in Python can be of two types i.e. Syntax errors and Exceptions. \n",
    "#Errors are the problems in a program due to which the program will stop the execution."
   ]
  },
  {
   "cell_type": "code",
   "execution_count": null,
   "id": "1549236f",
   "metadata": {},
   "outputs": [],
   "source": [
    "#How many except statements can a try-except block have? Name Some built-in exception classes: \n",
    "#try-except block have multiple except statements.\n",
    "#1.exception BaseException 2.exception ArithmeticError 3.exception BufferError 4. exception LookupError\n",
    "#5. exception ImportError 6. exception ModuleNotFoundError 7. exception ModuleNotFoundError 8.exception KeyError\n",
    "#9. exception KeyboardInterrupt 10. exception MemoryError 11. exception NameError 12.exception NotImplementedError"
   ]
  },
  {
   "cell_type": "code",
   "execution_count": null,
   "id": "79502e60",
   "metadata": {},
   "outputs": [],
   "source": [
    "#When will the else part of try-except-else be executed? \n",
    "#An Exception is an Event, which occurs during the execution of the program. It is also known as a run time error. \n",
    "#When that error occurs, Python generates an exception during the execution and that can be handled, \n",
    "#which avoids your program to interrupt."
   ]
  },
  {
   "cell_type": "code",
   "execution_count": null,
   "id": "bfe5f756",
   "metadata": {},
   "outputs": [],
   "source": [
    "#Can one block of except statements handle multiple exception? \n",
    "#yes expect cause is used to handle multiple block of expection."
   ]
  },
  {
   "cell_type": "code",
   "execution_count": null,
   "id": "cac6ae9e",
   "metadata": {},
   "outputs": [],
   "source": [
    "#When is the finally block executed? \n",
    "#finally is always executed after try and except blocks. The finally block always executes after normal termination of try block\n",
    "#or after try block terminates due to some exception. "
   ]
  },
  {
   "cell_type": "code",
   "execution_count": null,
   "id": "3ffff5aa",
   "metadata": {},
   "outputs": [],
   "source": [
    "#What happens when „1‟== 1 is executed? \n",
    "#False, It simply evaluates to False and does not raise any exception. because one is string and other is integer"
   ]
  },
  {
   "cell_type": "code",
   "execution_count": 1,
   "id": "827f5695",
   "metadata": {},
   "outputs": [
    {
     "name": "stdout",
     "output_type": "stream",
     "text": [
      "Can't divide by zero\n",
      "This is always executed\n"
     ]
    }
   ],
   "source": [
    "#How Do You Handle Exceptions With Try/Except/Finally In Python? Explain with coding snippets.\n",
    "#An Exception is an Event, which occurs during the execution of the program. It is also known as a run time error. \n",
    "#When that error occurs, Python generates an exception during the execution and that can be handled,\n",
    "#which avoids your program to interrupt.\n",
    "try:\n",
    "    k = 5//0  # raises divide by zero exception.\n",
    "    print(k)\n",
    "# handles zerodivision exception\n",
    "except ZeroDivisionError:\n",
    "    print(\"Can't divide by zero\")\n",
    "finally:\n",
    "    print('This is always executed')"
   ]
  },
  {
   "cell_type": "code",
   "execution_count": 4,
   "id": "1437a9c1",
   "metadata": {},
   "outputs": [
    {
     "name": "stdout",
     "output_type": "stream",
     "text": [
      "5 7 9 11 13 15 17 19 "
     ]
    }
   ],
   "source": [
    "#Write python program that user to enter only odd numbers, else will raise an exception.\n",
    "start = 5\n",
    "end = 20\n",
    "  \n",
    "if start % 2 != 0:\n",
    "  \n",
    "    for num in range(start, end + 1, 2):\n",
    "        print(num, end=\" \")\n",
    "else:\n",
    "  \n",
    "    for num in range(start+1, end + 1, 2):\n",
    "        print(num, end=\" \")"
   ]
  },
  {
   "cell_type": "code",
   "execution_count": null,
   "id": "2d178c6a",
   "metadata": {},
   "outputs": [],
   "source": [
    "#What are oops concepts? Is multiple inheritance supported in java.\n",
    "#The main aim of OOP is to bind together the data and the functions that operate on them \n",
    "#so that no other part of the code can access this data except that function.\n",
    "#When one class extends more than one classes then this is called multiple inheritance. \n",
    "#For example: Class C extends class A and B then this type of inheritance is known as multiple inheritance. \n",
    "#Java doesn’t allow multiple inheritance. we will discuss why java doesn’t allow multiple inheritance and\n",
    "#how we can use interfaces instead of classes to achieve the same purpose."
   ]
  },
  {
   "cell_type": "code",
   "execution_count": null,
   "id": "5965f44c",
   "metadata": {},
   "outputs": [],
   "source": [
    "#How to Define a Class in Python? What Is Self? Give An Example Of A Python Class \n",
    "#self represents the instance of the class. By using the “self”  we can access the attributes and methods of the class in python.\n",
    "#It binds the attributes with the given arguments.\n",
    "#The reason you need to use self. is because Python does not use the @ syntax to refer to instance attributes. \n",
    "#Python decided to do methods in a way that makes the instance to which the method belongs be passed automatically, \n",
    "#but not received automatically: the first parameter of methods is the instance the method is called on.\n",
    "class check:\n",
    "def __init__(self):\n",
    "print(\"Address of self = \",id(self))\n",
    "obj = check()\n",
    "print(\"Address of class object = \",id(obj))"
   ]
  },
  {
   "cell_type": "code",
   "execution_count": 2,
   "id": "55cf6a46",
   "metadata": {},
   "outputs": [
    {
     "name": "stdout",
     "output_type": "stream",
     "text": [
      "Enter Length: 67\n",
      "Enter width: 23\n",
      "area of rectangle is:1541\n"
     ]
    }
   ],
   "source": [
    "#Write a Python class named Rectangle constructed by a length and width and a method which will compute the area of a rectangle\n",
    "class rectengle:\n",
    "    def __init__(self,l,w):\n",
    "        self.a=l\n",
    "        self.b=w\n",
    "    \n",
    "    def getvalue(self):\n",
    "        self.a=int(input(\"Enter Length: \"))\n",
    "        self.b=int(input(\"Enter width: \"))\n",
    "        print(f\"area of rectangle is:{self.a*self.b}\")\n",
    "              \n",
    "             \n",
    "obj1=rectengle(15,90)\n",
    "obj1.getvalue()  "
   ]
  },
  {
   "cell_type": "code",
   "execution_count": 3,
   "id": "c68f64b1",
   "metadata": {},
   "outputs": [
    {
     "name": "stdout",
     "output_type": "stream",
     "text": [
      "200.96\n",
      "50.24\n"
     ]
    }
   ],
   "source": [
    "#Write a Python class named Circle constructed by a radius and two methods which will compute the area and \n",
    "#the perimeter of a circle \n",
    "class Circle():\n",
    "    def __init__(self, r):\n",
    "        self.radius = r\n",
    "\n",
    "    def area(self):\n",
    "        return self.radius**2*3.14\n",
    "    \n",
    "    def perimeter(self):\n",
    "        return 2*self.radius*3.14\n",
    "\n",
    "NewCircle = Circle(8)\n",
    "print(NewCircle.area())\n",
    "print(NewCircle.perimeter())\n"
   ]
  },
  {
   "cell_type": "code",
   "execution_count": 1,
   "id": "bc520482",
   "metadata": {},
   "outputs": [
    {
     "name": "stdout",
     "output_type": "stream",
     "text": [
      "Enter the radius of circle: 7\n",
      "Area of the circle is:  153.958\n",
      "Perimeter of the circle is:  43.96\n"
     ]
    }
   ],
   "source": [
    "#Write a Python class named Circle constructed by a radius and two methods which will compute the area and \n",
    "#the perimeter of a circle \n",
    "class Circle():\n",
    "\n",
    "    def radius(self,radius):\n",
    "        r = radius\n",
    "    def area(self,r):\n",
    "        area = 3.142*r*r\n",
    "        print(\"Area of the circle is: \",area)\n",
    "    def peri(self,r):\n",
    "        peri = 2*3.14*r\n",
    "        print(\"Perimeter of the circle is: \",peri)\n",
    "\n",
    "c = Circle()\n",
    "radius = int(input(\"Enter the radius of circle: \"))\n",
    "c.area(radius)\n",
    "c.peri(radius)"
   ]
  },
  {
   "cell_type": "code",
   "execution_count": null,
   "id": "156bcb68",
   "metadata": {},
   "outputs": [],
   "source": [
    "#Explain Inheritance in Python with an example? What is init? Or What Is A Constructor In Python? \n",
    "#Inheritance allows us to define a class that inherits all the methods and properties from another class.\n",
    "#Parent class is the class being inherited from, also called base class.\n",
    "#Child class is the class that inherits from another class, also called derived class.\n",
    "class Person:\n",
    "    def __init__(self, fname, lname):\n",
    "    self.firstname = fname\n",
    "    self.lastname = lname\n",
    "\n",
    "    def printname(self):\n",
    "    print(self.firstname, self.lastname)\n",
    "\n",
    "#Use the Person class to create an object, and then execute the printname method:\n",
    "\n",
    "x = Person(\"binjal\", \"patel\")\n",
    "x.printname()\n",
    "\n",
    "#constructor cannot be defined with our choice name\n",
    "# constructor will be defined by __init__ this name\n",
    "# constructor will be called automatically\n",
    "# constructor called at the time of object creation or declaration\n",
    "# constructor will be created for initialization of object or variable of object\n",
    "# constructor not return anything\n"
   ]
  },
  {
   "cell_type": "code",
   "execution_count": null,
   "id": "9069baa8",
   "metadata": {},
   "outputs": [],
   "source": [
    "#What is Instantiation in terms of OOP terminology? \n",
    "#In computer science, instantiation is the realization of a predefined object. \n",
    "#In OOP (object-oriented programming), a class of object may be defined. \n",
    "#An instance of that object may then be declared, giving it a unique, named identity so that it may be used in the program. \n",
    "#This process is called “instantiation.”\n"
   ]
  },
  {
   "cell_type": "code",
   "execution_count": null,
   "id": "650506e2",
   "metadata": {},
   "outputs": [],
   "source": [
    "#What is used to check whether an object o is an instance of class A? \n",
    "# In python,using isinstance method we can check wheather an object is an\n",
    "#instance of any particular class or not.it is built in method."
   ]
  },
  {
   "cell_type": "code",
   "execution_count": null,
   "id": "1337a785",
   "metadata": {},
   "outputs": [],
   "source": [
    "#What relationship is appropriate for Course and Faculty?\n",
    "#Supportive relationships between students and their educational faculty and staff can foster positive outcomes \n",
    "#such as students’ involvement and development. "
   ]
  },
  {
   "cell_type": "code",
   "execution_count": null,
   "id": "7ad84ad5",
   "metadata": {},
   "outputs": [],
   "source": [
    "#What relationship is appropriate for Student and Person?\n",
    "#peer to peer realtionship is appropriate for student and person.\n",
    "#In a positive learning environment, students lift one another up and create an atmosphere where it is the norm to take risks,\n",
    "#ask questions, make mistakes, and learn collaboratively. In order to set the stage for this type of environment, \n",
    "#students not only need a good relationship with their teacher, they need to feel connected to their peers. "
   ]
  }
 ],
 "metadata": {
  "kernelspec": {
   "display_name": "Python 3 (ipykernel)",
   "language": "python",
   "name": "python3"
  },
  "language_info": {
   "codemirror_mode": {
    "name": "ipython",
    "version": 3
   },
   "file_extension": ".py",
   "mimetype": "text/x-python",
   "name": "python",
   "nbconvert_exporter": "python",
   "pygments_lexer": "ipython3",
   "version": "3.9.13"
  }
 },
 "nbformat": 4,
 "nbformat_minor": 5
}
