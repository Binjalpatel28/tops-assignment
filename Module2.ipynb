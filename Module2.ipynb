{
 "cells": [
  {
   "cell_type": "code",
   "execution_count": 1,
   "id": "f871cb6d",
   "metadata": {},
   "outputs": [
    {
     "name": "stdout",
     "output_type": "stream",
     "text": [
      "enter the number:-2\n",
      "number is negative\n"
     ]
    }
   ],
   "source": [
    "#Write a Python program to check if a number is positive, negative or zero.\n",
    "num=int(input(\"enter the number:\"))\n",
    "if(num>0):\n",
    "    print(\"number is positive\")\n",
    "elif(num<0):\n",
    "    print(\"number is negative\") \n",
    "elif(num==0):\n",
    "    print(\"number is zero\")\n",
    "\n"
   ]
  },
  {
   "cell_type": "code",
   "execution_count": 4,
   "id": "b853c212",
   "metadata": {},
   "outputs": [
    {
     "name": "stdout",
     "output_type": "stream",
     "text": [
      "Enter the Number:5\n",
      "factorial of 5 is 1\n"
     ]
    }
   ],
   "source": [
    "#Write a Python program to get the Factorial number of given number.\n",
    "num=int(input(\"Enter the Number:\"))\n",
    "fact=1\n",
    "if(num<0):\n",
    "    print(\"Factorial does not exist for a negative number\")\n",
    "elif(num==0):\n",
    "    print(\"The factorial of 0 is 1\")\n",
    "    for i in range(1,num+1):\n",
    "        fact=fact*i\n",
    "print(\"factorial of\",num,\"is\",fact)\n"
   ]
  },
  {
   "cell_type": "code",
   "execution_count": 17,
   "id": "89a445f5",
   "metadata": {},
   "outputs": [
    {
     "name": "stdout",
     "output_type": "stream",
     "text": [
      "Enter the Number:6\n",
      "fibonacii series sequence\n",
      "0\n",
      "1\n",
      "1\n",
      "2\n",
      "3\n",
      "5\n"
     ]
    }
   ],
   "source": [
    "#Write a Python program to get the Fibonacci series of given range.\n",
    "num=int(input(\"Enter the Number:\"))\n",
    "n1,n2=0,1\n",
    "i=0\n",
    "if(num<0):\n",
    "    print(\"fibonacii series can not start with minus values\")\n",
    "elif(num==1):\n",
    "    print(\"fibonacii series upto 1\",num)\n",
    "    print(n1)\n",
    "else:\n",
    "    print(\"fibonacii series sequence\")\n",
    "    for i in range(num):\n",
    "        print(n1)\n",
    "        fibo=n1+n2\n",
    "        n1=n2\n",
    "        n2=fibo\n",
    "        i+=1\n"
   ]
  },
  {
   "cell_type": "code",
   "execution_count": null,
   "id": "f61c6a32",
   "metadata": {},
   "outputs": [],
   "source": [
    "#How memory is managed in Python?\n",
    "\n",
    "#Memory allocation is important to any software developer as writing efficient code means writing a memory-efficient code. \n",
    "#Memory allocation can be defined as allocating a block of space in the computer memory to a program. In Python memory \n",
    "#allocation and deallocation method is automatic as the Python developers created a garbage collector for Python so that \n",
    "#the user does not have to do manual garbage collection."
   ]
  },
  {
   "cell_type": "code",
   "execution_count": null,
   "id": "29f8a44c",
   "metadata": {},
   "outputs": [],
   "source": [
    "#What is the purpose continue statement in python?\n",
    "\n",
    "#Python Continue Statement skips the execution of the program block from after the continue statement and forces \n",
    "#the control to start the next iteration.\n"
   ]
  },
  {
   "cell_type": "code",
   "execution_count": 20,
   "id": "4a3603ee",
   "metadata": {},
   "outputs": [
    {
     "name": "stdout",
     "output_type": "stream",
     "text": [
      "enter the value of x:2\n",
      "enter the value of y:5\n",
      "after swapping the x is: 5\n",
      "after swapping the y is: 2\n"
     ]
    }
   ],
   "source": [
    "#Write python program that swap two number with temp variable and without temp variable.\n",
    "\n",
    "x=int(input(\"enter the value of x:\"))\n",
    "y=int(input(\"enter the value of y:\"))\n",
    "temp=x\n",
    "x=y\n",
    "y=temp\n",
    "print(\"after swapping the x is:\",x)\n",
    "print(\"after swapping the y is:\",y)\n",
    " "
   ]
  },
  {
   "cell_type": "code",
   "execution_count": 21,
   "id": "2ca745c2",
   "metadata": {},
   "outputs": [
    {
     "name": "stdout",
     "output_type": "stream",
     "text": [
      "enter the value of x:5\n",
      "enter the value of y:8\n",
      "after swapping the x is: 8\n",
      "after swapping the y is: 5\n"
     ]
    }
   ],
   "source": [
    "#without using temp variable\n",
    "\n",
    "x=int(input(\"enter the value of x:\"))\n",
    "y=int(input(\"enter the value of y:\"))\n",
    "x=x+y\n",
    "y=x-y\n",
    "x=x-y\n",
    "print(\"after swapping the x is:\",x)\n",
    "print(\"after swapping the y is:\",y)"
   ]
  },
  {
   "cell_type": "code",
   "execution_count": 29,
   "id": "e0310e65",
   "metadata": {},
   "outputs": [
    {
     "name": "stdout",
     "output_type": "stream",
     "text": [
      "Enter the number:3\n",
      "number is odd\n"
     ]
    }
   ],
   "source": [
    "#Write a Python program to find whether a given number is even or odd, print out an appropriate message to the user.\n",
    "num=int(input(\"Enter the number:\"))\n",
    "if(num%2)==0:\n",
    "    print(\"number is even\")\n",
    "else:\n",
    "    print(\"number is odd\")\n"
   ]
  },
  {
   "cell_type": "code",
   "execution_count": 6,
   "id": "ad138287",
   "metadata": {},
   "outputs": [
    {
     "name": "stdout",
     "output_type": "stream",
     "text": [
      "Enter the character:e\n",
      "character is vowel\n"
     ]
    }
   ],
   "source": [
    "#Write a Python program to test whether a passed letter is a vowel or not.\n",
    "ch=input(\"Enter the character:\")\n",
    "list=['a','e','i','o','u','A','E','I','O','U']\n",
    "if ch in list:\n",
    "    print(\"character is vowel\")\n",
    "else:\n",
    "    print(\"character is not vowel\")\n",
    "\n"
   ]
  },
  {
   "cell_type": "code",
   "execution_count": 18,
   "id": "fbb18f1a",
   "metadata": {},
   "outputs": [
    {
     "name": "stdout",
     "output_type": "stream",
     "text": [
      "Enter the value of a:3\n",
      "Enter the value of b:4\n",
      "Enter the value of c:3\n",
      "sum of a, b and c is= 0\n"
     ]
    }
   ],
   "source": [
    "#Write a Python program to sum of three given integers. However, if two values are equal sum will be zero\n",
    "a=int(input(\"Enter the value of a:\"))\n",
    "b=int(input(\"Enter the value of b:\"))\n",
    "c=int(input(\"Enter the value of c:\"))\n",
    "if a==b or b==c or a==c:\n",
    "    sum = 0\n",
    "else:\n",
    "    sum =a+b+c\n",
    "print(\"sum of a, b and c is=\",sum)\n",
    "\n",
    "\n"
   ]
  },
  {
   "cell_type": "code",
   "execution_count": 4,
   "id": "f572e963",
   "metadata": {},
   "outputs": [
    {
     "name": "stdout",
     "output_type": "stream",
     "text": [
      "Enter the value of a:7\n",
      "Enter the value of b:3\n",
      "False\n"
     ]
    }
   ],
   "source": [
    "#Write a Python program that will return true if the two given integer values are equal or their sum or difference is 5.\n",
    "a=int(input(\"Enter the value of a:\"))\n",
    "b=int(input(\"Enter the value of b:\"))\n",
    "if a==b or abs(a-b)==5 or (a-b)==5:\n",
    "    print(\"True\")\n",
    "else:\n",
    "    print(\"False\")\n",
    "#print(a,b,c)\n"
   ]
  },
  {
   "cell_type": "code",
   "execution_count": 10,
   "id": "475d671b",
   "metadata": {},
   "outputs": [
    {
     "name": "stdout",
     "output_type": "stream",
     "text": [
      "Enter the Number:3\n",
      "Sum of the first 3 positive integers: 6.0\n"
     ]
    }
   ],
   "source": [
    "#Write a python program to sum of the first n positive integers.\n",
    "n=int(input(\"Enter the Number:\"))\n",
    "num = (n * (n + 1)) / 2\n",
    "print(\"Sum of the first\", n ,\"positive integers:\", num)\n",
    "\n"
   ]
  },
  {
   "cell_type": "code",
   "execution_count": 12,
   "id": "803735b7",
   "metadata": {},
   "outputs": [
    {
     "name": "stdout",
     "output_type": "stream",
     "text": [
      "Enter the String:jay\n",
      "3\n"
     ]
    }
   ],
   "source": [
    "#Write a Python program to calculate the length of a string.\n",
    "str=(input(\"Enter the String:\"))\n",
    "print(len(str))\n",
    "\n"
   ]
  },
  {
   "cell_type": "code",
   "execution_count": 12,
   "id": "8c848694",
   "metadata": {},
   "outputs": [
    {
     "name": "stdout",
     "output_type": "stream",
     "text": [
      "Count of all characters in hello is :\n",
      "  {'h': 1, 'e': 1, 'l': 2, 'o': 1}\n"
     ]
    }
   ],
   "source": [
    "#Write a Python program to count the number of characters (character frequency) in a string\n",
    "\n",
    "str1 = \"hello\"\n",
    "freq = {}\n",
    "\n",
    "for i in str1:\n",
    "    if i in freq:\n",
    "        freq[i]+=1\n",
    "    else:\n",
    "        freq[i]=1\n",
    "    \n",
    "print(\"Count of all characters in hello is :\\n \", freq)"
   ]
  },
  {
   "cell_type": "code",
   "execution_count": null,
   "id": "cbd3a042",
   "metadata": {},
   "outputs": [],
   "source": [
    "#What are negative indexes and why are they used?\n",
    "\n",
    "#The negative index is used to remove any new-line spaces from the string and allow the string to except the last character \n",
    "#that is given as S[:-1]. The negative index is also used to show the index to represent the string in correct order."
   ]
  },
  {
   "cell_type": "code",
   "execution_count": 15,
   "id": "0f44fcca",
   "metadata": {},
   "outputs": [
    {
     "name": "stdout",
     "output_type": "stream",
     "text": [
      "Enter the String:jay jay jay binjal\n",
      "Enter the character:j\n",
      "Total number of character is j has occuared 4\n"
     ]
    }
   ],
   "source": [
    "#Write a Python program to count occurrences of a substring in a string.\n",
    "\n",
    "string=(input(\"Enter the String:\"))\n",
    "character=(input(\"Enter the character:\"))\n",
    "\n",
    "count=0\n",
    "for i in range(len(string)):\n",
    "    if(string[i]==character):\n",
    "        count=count+1\n",
    "print(\"Total number of character is\", character ,\"has occuared\", count)\n",
    "        \n",
    "    "
   ]
  },
  {
   "cell_type": "code",
   "execution_count": 17,
   "id": "eea60b9b",
   "metadata": {},
   "outputs": [
    {
     "name": "stdout",
     "output_type": "stream",
     "text": [
      "The original string is : tops tech is best tops technologies tech\n",
      "The substring to find : tech\n",
      "The start indices of the substrings are :  [5, 23, 36]\n"
     ]
    }
   ],
   "source": [
    "#Write a Python program to count the occurrences of each word in a given sentence.\n",
    "\n",
    "test_str = \"tops tech is best tops technologies tech\"\n",
    "test_sub = \"tech\"\n",
    "\n",
    "print(\"The original string is : \" + test_str)\n",
    "print(\"The substring to find : \" + test_sub)\n",
    "res = [i for i in range(len(test_str))\n",
    "if test_str.startswith(test_sub, i)]\n",
    " \n",
    "print(\"The start indices of the substrings are : \", res)"
   ]
  },
  {
   "cell_type": "code",
   "execution_count": 18,
   "id": "7dc382b9",
   "metadata": {},
   "outputs": [
    {
     "name": "stdout",
     "output_type": "stream",
     "text": [
      "Enter the first String:abc\n",
      "Enter the second string:xyz\n",
      "Before Swap : abc   xyz\n",
      "After Swap : xyc   abz\n"
     ]
    }
   ],
   "source": [
    "#Write a Python program to get a single string from two given strings,\n",
    "#separated by a space and swap the first two characters of each string.\n",
    "\n",
    "str1=(input(\"Enter the first String:\"))\n",
    "str2=(input(\"Enter the second string:\"))\n",
    "\n",
    "print(\"Before Swap :\",str1,\" \",str2)\n",
    "a1 = str2[:2] + str1[2:]\n",
    "b1 = str1[:2] + str2[2:]\n",
    "print(\"After Swap :\",a1,\" \",b1)\n"
   ]
  },
  {
   "cell_type": "code",
   "execution_count": 8,
   "id": "f1c9b2ea",
   "metadata": {},
   "outputs": [
    {
     "name": "stdout",
     "output_type": "stream",
     "text": [
      "Enter the string1:string\n",
      "Enter the string2:abc\n",
      "string is: stringly\n"
     ]
    }
   ],
   "source": [
    "#Write a Python program to add 'ing' at the end of a given string (length \n",
    "#should be at least 3). If the given string already ends with 'ing' then add \n",
    "#'ly' instead if the string length of the given string is less than 3, leave it unchanged.\n",
    "\n",
    "str1=(input(\"Enter the string1:\"))\n",
    "str2=(input(\"Enter the string2:\"))\n",
    "\n",
    "length = len(str1)\n",
    "if length > 2:\n",
    "    if str1[-3:] == 'ing':\n",
    "    str1 += 'ly'\n",
    "    else:\n",
    "    str1 += 'ing'\n",
    "    print(\"string is:\", str1)\n"
   ]
  },
  {
   "cell_type": "code",
   "execution_count": 13,
   "id": "5ab23bf7",
   "metadata": {},
   "outputs": [
    {
     "name": "stdout",
     "output_type": "stream",
     "text": [
      "Enter the string: the man is not poor\n",
      "the man is good\n"
     ]
    }
   ],
   "source": [
    "#Write a Python program to find the first appearance of the substring \n",
    "#'not' and 'poor' from a given string, if 'not' follows the 'poor', replace the \n",
    "#whole 'not'...'poor' substring with 'good'. Return the resulting string.\n",
    "str1=(input(\"Enter the string: \"))\n",
    "\n",
    "snot = str1.find('not')  \n",
    "sbad = str1.find('poor')  \n",
    "  \n",
    "if sbad > snot:  \n",
    "    str1 = str1.replace(str1[snot:(sbad+4)], 'good')\n",
    "    print(str1)\n",
    "  "
   ]
  },
  {
   "cell_type": "code",
   "execution_count": 3,
   "id": "01e958d4",
   "metadata": {},
   "outputs": [
    {
     "name": "stdout",
     "output_type": "stream",
     "text": [
      "The word with the longest length is: one  and length is  3\n",
      "The word with the longest length is: one  and length is  3\n",
      "The word with the longest length is: third  and length is  5\n",
      "The word with the longest length is: third  and length is  5\n"
     ]
    }
   ],
   "source": [
    "#Write a Python function that takes a list of words and returns the length of the longest one.\n",
    "\n",
    "a = [\"one\", \"two\", \"third\", \"four\"]\n",
    "max1 = len(a[0])\n",
    "temp = a[0]\n",
    " \n",
    "    # for loop to traverse the list\n",
    "for i in a:\n",
    "    if(len(i) > max1):\n",
    "        max1 = len(i)\n",
    "        temp = i\n",
    " \n",
    "    print(\"The word with the longest length is:\", temp,\n",
    "          \" and length is \", max1)\n",
    " \n",
    " \n"
   ]
  },
  {
   "cell_type": "code",
   "execution_count": 2,
   "id": "61f585b7",
   "metadata": {},
   "outputs": [
    {
     "name": "stdout",
     "output_type": "stream",
     "text": [
      "dcba\n"
     ]
    }
   ],
   "source": [
    "#Write a Python function to reverses a string if its length is a multiple of 4.\n",
    "\n",
    "def reverse_string(str1):\n",
    "    if len(str1) % 4 == 0:\n",
    "        return ''.join(reversed(str1))\n",
    "    return str1\n",
    "\n",
    "print(reverse_string('abcd'))\n",
    "#print(reverse_string('python'))\n",
    "\n"
   ]
  },
  {
   "cell_type": "code",
   "execution_count": 14,
   "id": "4de3c271",
   "metadata": {},
   "outputs": [
    {
     "name": "stdout",
     "output_type": "stream",
     "text": [
      "Enter the string:binjal jay patel\n",
      "Input string = binjal jay patel\n",
      "New String = biel\n"
     ]
    }
   ],
   "source": [
    "#Write a Python program to get a string made of the first 2 and the last \n",
    "#2 chars from a given a string. If the string length is less than 2, return instead of the empty string.\n",
    "\n",
    "str1=(input(\"Enter the string:\"))\n",
    " \n",
    "count = 0\n",
    " \n",
    "# Loop through the string\n",
    "for i in str1:\n",
    "      count = count + 1\n",
    "newString = str1[ 0:2 ] + str1 [count - 2: count ]\n",
    " \n",
    "# Printing the new String\n",
    "print(\"Input string = \" + str1)\n",
    "print(\"New String = \"+ newString)"
   ]
  },
  {
   "cell_type": "code",
   "execution_count": 1,
   "id": "4dd3c3d2",
   "metadata": {},
   "outputs": [
    {
     "name": "stdout",
     "output_type": "stream",
     "text": [
      "Enter the string:binjal patel\n",
      "The original string is : binjal patel\n",
      "Enter the middle string:jay\n",
      "Formulated String : binjal jay patel\n"
     ]
    }
   ],
   "source": [
    "#Write a Python function to insert a string in the middle of a string.\n",
    "\n",
    "str1=(input(\"Enter the string:\")) \n",
    "print(\"The original string is : \" + str(str1))\n",
    "mid_str =(input(\"Enter the middle string:\")) \n",
    "temp = str1.split()\n",
    "mid_pos = len(temp) // 2\n",
    "res = ' '.join(temp[:mid_pos] + [mid_str] + temp[mid_pos:])\n",
    "print(\"Formulated String : \" + str(res))\n",
    "    "
   ]
  },
  {
   "cell_type": "code",
   "execution_count": null,
   "id": "bd8910ae",
   "metadata": {},
   "outputs": [],
   "source": []
  }
 ],
 "metadata": {
  "kernelspec": {
   "display_name": "Python 3 (ipykernel)",
   "language": "python",
   "name": "python3"
  },
  "language_info": {
   "codemirror_mode": {
    "name": "ipython",
    "version": 3
   },
   "file_extension": ".py",
   "mimetype": "text/x-python",
   "name": "python",
   "nbconvert_exporter": "python",
   "pygments_lexer": "ipython3",
   "version": "3.9.13"
  }
 },
 "nbformat": 4,
 "nbformat_minor": 5
}
