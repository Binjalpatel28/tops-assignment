{
 "cells": [
  {
   "cell_type": "code",
   "execution_count": null,
   "id": "cb1fc5a1",
   "metadata": {},
   "outputs": [],
   "source": [
    "#Why Django should be used for web-development? Explain how you can create a project in Django? \n",
    "#Python is a powerful high-level programming language that can be possibly used in a lot of fields. \n",
    "#These fields can range from data science to automation and web development. \n",
    "#It also has amazing libraries and frameworks that include pandas, NumPy, PyTorch, selenium, OpenCV, bottle, pyramid, flask, etc. \n",
    "#One such framework in Python that is used for web development majorly is Django. \n",
    "#using this django_admin startproject project_name, we can create a project."
   ]
  },
  {
   "cell_type": "code",
   "execution_count": null,
   "id": "502114d4",
   "metadata": {},
   "outputs": [],
   "source": [
    "#How to check installed version of django? \n",
    "#open a console and type this comand\n",
    "#import django \n",
    "#django.VERSION\n"
   ]
  },
  {
   "cell_type": "code",
   "execution_count": null,
   "id": "131cadec",
   "metadata": {},
   "outputs": [],
   "source": [
    "#Explain what does django-admin.py make messages command is used for?\n",
    "#django-admin loaddata – loads the data into the database from the fixture file. \n",
    "#django-admin makemessages – Used for translation purpose and it generates a message file too."
   ]
  },
  {
   "cell_type": "code",
   "execution_count": null,
   "id": "35509828",
   "metadata": {},
   "outputs": [],
   "source": [
    "#What is Django URLs?make program to create django urls \n",
    "#The urls.py file you just created is specific for the members application. \n",
    "#We have to do some routing in the root directory my_tennis_club as well. \n",
    "#PROGRAM:\n",
    "# from django.urls import path\n",
    "# from . import views\n",
    "\n",
    "# urlpatterns = [\n",
    "#     path('members/', views.members, name='members'),\n",
    "# ]"
   ]
  },
  {
   "cell_type": "code",
   "execution_count": null,
   "id": "bc67098e",
   "metadata": {},
   "outputs": [],
   "source": [
    "#What is a QuerySet?Write program to create a new Post object in database:\n",
    "\n",
    "#a django queryset is like its name says, basically a collection of (sql) queries, in your example above print(b.query) \n",
    "#will show you the sql query generated from your django filter calls.\n",
    "#QuerySet is a list of objects of a given model, QuerySet allow you to read data from database"
   ]
  },
  {
   "cell_type": "code",
   "execution_count": null,
   "id": "fa2e4d21",
   "metadata": {},
   "outputs": [],
   "source": [
    "#Mention what command line can be used to load data into Django? \n",
    "#Django loaddata is a command used for pre-populating database with data, especially during the development phase. \n",
    "#Data is loaded from fixture files that represent serialized data.\n",
    "#Django dumpdata is a command used for dumping data from database to fixture files.\n",
    "#Output from dumpdata can be in various file formats."
   ]
  },
  {
   "cell_type": "code",
   "execution_count": null,
   "id": "a39d4d9d",
   "metadata": {},
   "outputs": [],
   "source": [
    "#Explain what does django-admin.py make messages command is used for? \n",
    "#I´m trying to generate translation file using command django-admin makemessages -l pt-br in Windows\n",
    "#10 but unfortunately the files aren´t generated. Here the steps that I followed:\n",
    "#Installed gettext library from mlocati.I also tried several options from django i18n: Make sure you have GNU gettext tools ,\n",
    "#this process is more manual.As the result when i run django-admin makemessages -l pt-br looks like that Django is executing something but the directory is not generated in the end."
   ]
  }
 ],
 "metadata": {
  "kernelspec": {
   "display_name": "Python 3 (ipykernel)",
   "language": "python",
   "name": "python3"
  },
  "language_info": {
   "codemirror_mode": {
    "name": "ipython",
    "version": 3
   },
   "file_extension": ".py",
   "mimetype": "text/x-python",
   "name": "python",
   "nbconvert_exporter": "python",
   "pygments_lexer": "ipython3",
   "version": "3.9.13"
  }
 },
 "nbformat": 4,
 "nbformat_minor": 5
}
