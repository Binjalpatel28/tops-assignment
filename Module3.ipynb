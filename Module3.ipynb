{
 "cells": [
  {
   "cell_type": "code",
   "execution_count": null,
   "id": "76493b52",
   "metadata": {},
   "outputs": [],
   "source": [
    "#What is List? How will you reverse a list? \n",
    "\n",
    "#list is collection of elements of same as well as different datatype. \n",
    "#Reversing a list means after reversing the list, the first element should be swapped with the last element,\n",
    "#the second element should be swapped with the second last element"
   ]
  },
  {
   "cell_type": "code",
   "execution_count": 10,
   "id": "5813e240",
   "metadata": {},
   "outputs": [
    {
     "name": "stdout",
     "output_type": "stream",
     "text": [
      "25\n"
     ]
    }
   ],
   "source": [
    "#How will you remove last object from a list? \n",
    "#Suppose list1 is [2, 33, 222, 14, and 25], what is list1 [-1]? \n",
    "\n",
    "list1= [2,33,222,14,25]\n",
    "x=list1.pop(-1)\n",
    "print(x)\n"
   ]
  },
  {
   "cell_type": "code",
   "execution_count": null,
   "id": "3fcc2831",
   "metadata": {},
   "outputs": [],
   "source": [
    "#Differentiate between append () and extend () methods?\n",
    "\n",
    "# append() adds an element at the end of the list. The argument passed in the append function is added as a single element at \n",
    "#end of the list and the length of the list is increased by 1.\n",
    "#extend() method appends each element of the iterable (tuple, string, or list) to the end of the list and increases the \n",
    "#length of the list by the number of elements of the iterable passed as an argument."
   ]
  },
  {
   "cell_type": "code",
   "execution_count": 10,
   "id": "3252dd3a",
   "metadata": {},
   "outputs": [
    {
     "name": "stdout",
     "output_type": "stream",
     "text": [
      "Largest Number: 89\n",
      "Smallest Number: 8\n",
      "Sum of all elements in given list:  328\n"
     ]
    }
   ],
   "source": [
    "#Write a Python function to get the largest number, smallest num and sum of all from a list. \n",
    "total=0\n",
    "list1=[45,67,89,62,12,8,45]\n",
    "print(\"Largest Number:\",max(list1))\n",
    "print(\"Smallest Number:\",min(list1))\n",
    "\n",
    "for ele in range(0, len(list1)):\n",
    "    total = total + list1[ele]\n",
    "print(\"Sum of all elements in given list: \", total)\n",
    "    "
   ]
  },
  {
   "cell_type": "code",
   "execution_count": null,
   "id": "0a13da73",
   "metadata": {},
   "outputs": [],
   "source": [
    "#How will you compare two lists? \n",
    "\n",
    "#You can use the sort() method or the sorted() function to sort lists with the purpose of comparing them for equality. \n",
    "#The sort() method sorts the list in place, while the sorted() function returns a new list. \n",
    "#After sorting, lists that are equal will have the same items in the same index positions. \n",
    "#The == operator compares the lists, item by item (element-wise comparison)."
   ]
  },
  {
   "cell_type": "code",
   "execution_count": 37,
   "id": "4d19f04b",
   "metadata": {},
   "outputs": [
    {
     "name": "stdout",
     "output_type": "stream",
     "text": [
      "The number of strings where the string length is 2 or more and the first and last character are the same: 1\n"
     ]
    }
   ],
   "source": [
    "#Write a Python program to count the number of strings where the string length is 2 or more and the first and\n",
    "#last character are same from a given list of strings. \n",
    "\n",
    "def count_strings(strings):\n",
    "\n",
    "    count = 0\n",
    "    for string in strings:\n",
    "        if len(string) >= 2 and string[0] == string[-1]:\n",
    "            count += 1\n",
    "            return count\n",
    "\n",
    "strings = ['abc', 'binjal', 'aba', '1221']\n",
    "\n",
    "result = count_strings(strings)\n",
    "\n",
    "print(\"The number of strings where the string length is 2 or more and the first and last character are the same:\", result)"
   ]
  },
  {
   "cell_type": "code",
   "execution_count": 39,
   "id": "6708ba7e",
   "metadata": {},
   "outputs": [
    {
     "name": "stdout",
     "output_type": "stream",
     "text": [
      "[2, 4, 5, 10, 20]\n"
     ]
    }
   ],
   "source": [
    "#Write a Python program to remove duplicates from a list. \n",
    "\n",
    "list1 = [2, 4, 10, 20, 5, 2, 20, 4]\n",
    "print(list(set(list1)))"
   ]
  },
  {
   "cell_type": "code",
   "execution_count": 48,
   "id": "6e6bd1f2",
   "metadata": {},
   "outputs": [
    {
     "name": "stdout",
     "output_type": "stream",
     "text": [
      "list is empty\n"
     ]
    }
   ],
   "source": [
    "#Write a Python program to check a list is empty or not.\n",
    "list1 = {\"a\": 1, \"b\": 2, \"c\": 3}\n",
    "list2 = []\n",
    " \n",
    "if list2:\n",
    "    print(\"list is not empty\")\n",
    "else:\n",
    "    print(\"list is empty\")\n",
    "    "
   ]
  },
  {
   "cell_type": "code",
   "execution_count": 50,
   "id": "cbc84bc7",
   "metadata": {},
   "outputs": [
    {
     "name": "stdout",
     "output_type": "stream",
     "text": [
      "[1, 4, 9, 16, 25]\n",
      "[256, 289, 324, 361, 400]\n"
     ]
    }
   ],
   "source": [
    "#Write a Python program to generate and print a list of first and last 5 elements where the values\n",
    "#are square of numbers between 1 and 30. \n",
    "def printValues():\n",
    "    l = list()\n",
    "    for i in range(1,21):\n",
    "        l.append(i**2)\n",
    "    print(l[:5])\n",
    "    print(l[-5:])\n",
    "\n",
    "printValues()"
   ]
  },
  {
   "cell_type": "code",
   "execution_count": 52,
   "id": "726d3db8",
   "metadata": {},
   "outputs": [
    {
     "name": "stdout",
     "output_type": "stream",
     "text": [
      "[]\n"
     ]
    }
   ],
   "source": [
    "#Write a Python function that takes a list and returns a new list with unique elements of the first list. \n",
    "#list1=[34,45,78,93,45,8]\n",
    "def unique_list(numbers):\n",
    "    unique = []\n",
    "    for item in numbers :\n",
    "        if item in unique == False:\n",
    "            unique.append(item)\n",
    "    return unique \n",
    "print(unique_list([1, 2, 3, 1, 2]))"
   ]
  },
  {
   "cell_type": "code",
   "execution_count": 54,
   "id": "f6df487c",
   "metadata": {},
   "outputs": [
    {
     "name": "stdout",
     "output_type": "stream",
     "text": [
      "binjaljaypatel\n"
     ]
    }
   ],
   "source": [
    "#Write a Python program to convert a list of characters into a string.\n",
    "def convert(s):\n",
    "    str1 = \"\"\n",
    "    return(str1.join(s))\n",
    "s = ['b', 'i', 'n', 'j', 'a', 'l', 'j', 'a', 'y', 'p', 'a', 't', 'e','l']\n",
    "print(convert(s))"
   ]
  },
  {
   "cell_type": "code",
   "execution_count": 2,
   "id": "8cc76324",
   "metadata": {},
   "outputs": [
    {
     "name": "stdout",
     "output_type": "stream",
     "text": [
      "Original list is : [1, 4, 5, 2, 7]\n",
      "Random selected number is : 4\n"
     ]
    }
   ],
   "source": [
    "#Write a Python program to select an item randomly from a list.\n",
    "import random\n",
    "test_list = [1, 4, 5, 2, 7]\n",
    "print(\"Original list is : \" + str(test_list))\n",
    "random_num = random.choice(test_list)\n",
    "print(\"Random selected number is : \" + str(random_num))"
   ]
  },
  {
   "cell_type": "code",
   "execution_count": 13,
   "id": "21c14203",
   "metadata": {},
   "outputs": [
    {
     "name": "stdout",
     "output_type": "stream",
     "text": [
      "Second Smallest element is: 8\n"
     ]
    }
   ],
   "source": [
    "#Write a Python program to find the second smallest number in a list.\n",
    "list1=[23,98,76,45,23,8,34,2]\n",
    "length = len(list1)\n",
    "list1.sort()\n",
    "print(\"Second Smallest element is:\", list1[1])\n"
   ]
  },
  {
   "cell_type": "code",
   "execution_count": 14,
   "id": "a48cfb99",
   "metadata": {},
   "outputs": [
    {
     "name": "stdout",
     "output_type": "stream",
     "text": [
      "[1, 2, 3, 4, 5]\n"
     ]
    }
   ],
   "source": [
    "#Write a Python program to get unique values from a list.\n",
    "list1 = [1, 2, 2, 3, 3, 4, 5]\n",
    "def get_unique_numbers(list1):\n",
    "\n",
    "    list_of_unique_numbers = []\n",
    "\n",
    "    unique_numbers = set(list1)\n",
    "\n",
    "    for i in unique_numbers:\n",
    "        list_of_unique_numbers.append(i)\n",
    "\n",
    "    return list_of_unique_numbers\n",
    "\n",
    "\n",
    "print(get_unique_numbers(list1))"
   ]
  },
  {
   "cell_type": "code",
   "execution_count": 18,
   "id": "6e684987",
   "metadata": {},
   "outputs": [
    {
     "name": "stdout",
     "output_type": "stream",
     "text": [
      "The original list : [5, 6, 3, 8, 2, 1, 7, 1]\n",
      "Is sublist present in list ? : True\n"
     ]
    }
   ],
   "source": [
    "#Write a Python program to check whether a list contains a sub list.\n",
    "test_list = [5, 6, 3, 8, 2, 1, 7, 1]\n",
    "print(\"The original list : \" + str(test_list))\n",
    "sublist = [8, 2, 1]\n",
    "res = any(test_list[idx: idx + len(sublist)] == sublist\n",
    "          for idx in range(len(test_list) - len(sublist) + 1))\n",
    "print(\"Is sublist present in list ? : \" + str(res))"
   ]
  },
  {
   "cell_type": "code",
   "execution_count": 20,
   "id": "c01d0c73",
   "metadata": {},
   "outputs": [
    {
     "name": "stdout",
     "output_type": "stream",
     "text": [
      "The original list is : [1, 4, 5, 6, 7, 3, 5, 9, 2, 4]\n",
      "The original split index list : [2, 5, 7]\n",
      "The splitted lists are : [[1, 4], [5, 6, 7], [3, 5], [9, 2, 4]]\n"
     ]
    }
   ],
   "source": [
    "#Write a Python program to split a list into different variables.\n",
    "test_list = [1, 4, 5, 6, 7, 3, 5, 9, 2, 4]\n",
    "split_list = [2, 5, 7]\n",
    "print (\"The original list is : \" + str(test_list))\n",
    "print (\"The original split index list : \" + str(split_list))\n",
    "res = [test_list[i : j] for i, j in zip([0] +\n",
    "          split_list, split_list + [None])]\n",
    "print (\"The splitted lists are : \" +  str(res))"
   ]
  },
  {
   "cell_type": "code",
   "execution_count": null,
   "id": "4081bceb",
   "metadata": {},
   "outputs": [],
   "source": [
    "#What is tuple? Difference between list and tuple. \n",
    "#tuple is a collection of elements of same as well as different datatype.\n",
    "#tuples are immutable, list is mutable.\n",
    "#tuples implication of iterations is compartiviely faster, list implication of iteration is Time-consuming.\n",
    "#tuples consume less memory, list consume more memory.\n",
    "#tuples does not have any bulit in menthods, list have several built in methods."
   ]
  },
  {
   "cell_type": "code",
   "execution_count": 21,
   "id": "b2c3556a",
   "metadata": {},
   "outputs": [
    {
     "name": "stdout",
     "output_type": "stream",
     "text": [
      "[45, 36, 89]\n",
      "(48, 56.32, True, 'hello', [45, 36, 89, 56], (48, 65), {48, 96}, {1: 'hekll', 2: 'world'})\n",
      "<class 'int'>\n",
      "<class 'float'>\n",
      "<class 'bool'>\n",
      "<class 'str'>\n",
      "<class 'list'>\n",
      "<class 'tuple'>\n",
      "<class 'set'>\n",
      "<class 'dict'>\n"
     ]
    }
   ],
   "source": [
    "#Write a Python program to create a tuple with different data types. \n",
    "tup1=(48,56.32,True,\"hello\",[45,36,89],(48,65),{48,96},{1:\"hekll\",2:\"world\"})\n",
    "print(tup1[4])\n",
    "tup1[4].append(56)\n",
    "print(tup1)\n",
    "for i in tup1:\n",
    "    print (type(i))"
   ]
  },
  {
   "cell_type": "code",
   "execution_count": 2,
   "id": "58f6c6f8",
   "metadata": {},
   "outputs": [
    {
     "name": "stdout",
     "output_type": "stream",
     "text": [
      "Tuple Items =  (22,)\n",
      "Tuple Items =  (10, 20, 40, 60, 80, 100)\n"
     ]
    }
   ],
   "source": [
    "#Write a Python program to create a tuple with numbers.\n",
    "n1 = 22,\n",
    "print(\"Tuple Items = \", n1)\n",
    "\n",
    "nTuple = (10, 20, 40, 60, 80, 100)\n",
    "print(\"Tuple Items = \", nTuple)"
   ]
  },
  {
   "cell_type": "code",
   "execution_count": 5,
   "id": "74c14310",
   "metadata": {},
   "outputs": [
    {
     "name": "stdout",
     "output_type": "stream",
     "text": [
      "binjaljay\n"
     ]
    }
   ],
   "source": [
    "#Write a Python program to convert a tuple to a string. \n",
    "def convertTuple(tup):\n",
    "    str = ''.join(tup)\n",
    "    return str\n",
    "tuple = ('b', 'i', 'n', 'j', 'a','l','j','a','y')\n",
    "str = convertTuple(tuple)\n",
    "print(str)"
   ]
  },
  {
   "cell_type": "code",
   "execution_count": 11,
   "id": "2a2feb58",
   "metadata": {},
   "outputs": [
    {
     "name": "stdout",
     "output_type": "stream",
     "text": [
      "yes, apple is in tuple\n"
     ]
    }
   ],
   "source": [
    "#Write a Python program to check whether an element exists within a tuple. \n",
    "testtup=(\"Apple\", \"samsung\",\"LG\")\n",
    "if(\"Apple\" in testtup):\n",
    "    print(\"yes, apple is in tuple\")\n",
    "else:\n",
    "    print(\"No, apple is not in tuple\")"
   ]
  },
  {
   "cell_type": "code",
   "execution_count": 13,
   "id": "89a0d89c",
   "metadata": {},
   "outputs": [
    {
     "name": "stdout",
     "output_type": "stream",
     "text": [
      "6\n"
     ]
    }
   ],
   "source": [
    "#Write a Python program to find the length of a tuple. \n",
    "tuplen=(\"Apple\", \"banana\", \"grapes\",56,78,90)\n",
    "print (len(tuplen))"
   ]
  },
  {
   "cell_type": "code",
   "execution_count": 2,
   "id": "c7fe5f18",
   "metadata": {},
   "outputs": [
    {
     "name": "stdout",
     "output_type": "stream",
     "text": [
      "(['binjal'], ['jay'], ['patel'])\n"
     ]
    }
   ],
   "source": [
    "#Write a Python program to convert a list to a tuple. \n",
    "lst = ['binjal', 'jay', 'patel']\n",
    "x = tuple([i] for a,i in enumerate(lst))\n",
    "print(x)"
   ]
  },
  {
   "cell_type": "code",
   "execution_count": 3,
   "id": "ac908b44",
   "metadata": {},
   "outputs": [
    {
     "name": "stdout",
     "output_type": "stream",
     "text": [
      "('y', 'a', 'j', 'l', 'a', 'j', 'n', 'b')\n"
     ]
    }
   ],
   "source": [
    "#Write a Python program to reverse a tuple.\n",
    "def Reverse(tuples):\n",
    "    new_tup = tuples[::-1]\n",
    "    return new_tup\n",
    "     \n",
    "# Driver Code\n",
    "tuples = ('b','n','j','a','l','j','a','y')\n",
    "print(Reverse(tuples))"
   ]
  },
  {
   "cell_type": "code",
   "execution_count": 22,
   "id": "9d475f3f",
   "metadata": {},
   "outputs": [
    {
     "name": "stdout",
     "output_type": "stream",
     "text": [
      "[(10, 20, 100), (40, 50, 100), (70, 80, 100)]\n"
     ]
    }
   ],
   "source": [
    "#Write a Python program to replace last value of tuples in a list.\n",
    "l = [(10, 20, 40), (40, 50, 60), (70, 80, 90)]\n",
    "print([t[:-1] + (100,) for t in l])\n"
   ]
  },
  {
   "cell_type": "code",
   "execution_count": 24,
   "id": "8ea6f946",
   "metadata": {},
   "outputs": [
    {
     "name": "stdout",
     "output_type": "stream",
     "text": [
      "(2, 4, 5, 6, 2, 3, 4, 4, 7)\n",
      "3\n"
     ]
    }
   ],
   "source": [
    "#Write a Python program to find the repeated items of a tuple.\n",
    "tuplex = 2, 4, 5, 6, 2, 3, 4, 4, 7 \n",
    "print(tuplex)\n",
    "#return the number of times it appears in the tuple.\n",
    "count = tuplex.count(4)\n",
    "print(count)"
   ]
  },
  {
   "cell_type": "code",
   "execution_count": 26,
   "id": "d1ca45da",
   "metadata": {},
   "outputs": [
    {
     "name": "stdout",
     "output_type": "stream",
     "text": [
      "[('jay', '15', '8'), ('binjal', 'jay'), ('jeeya', 'abhi', '45'), ('', '')]\n"
     ]
    }
   ],
   "source": [
    "#Write a Python program to remove an empty tuple(s) from a list of tuples.\n",
    "def Remove(tuples):\n",
    "    tuples = [t for t in tuples if t]\n",
    "    return tuples\n",
    " \n",
    "# Driver Code\n",
    "tuples = [(), ('jay','15','8'), (), ('binjal', 'jay'),\n",
    "          ('jeeya', 'abhi', '45'), ('',''),()]\n",
    "print(Remove(tuples))"
   ]
  },
  {
   "cell_type": "code",
   "execution_count": 3,
   "id": "19b927da",
   "metadata": {},
   "outputs": [
    {
     "name": "stdout",
     "output_type": "stream",
     "text": [
      "Original list is : [('binjal', 1), ('jay', 2), ('patel', 3), ('Placed', 4)]\n",
      "Modified list is : [['binjal', 'jay', 'patel', 'Placed'], [1, 2, 3, 4]]\n"
     ]
    }
   ],
   "source": [
    "#Write a Python program to unzip a list of tuples into individual lists.\n",
    "\n",
    "test_list = [('binjal', 1), ('jay', 2), ('patel', 3), ('Placed', 4)]\n",
    "print(\"Original list is : \" + str(test_list))\n",
    "res = [[i for i, j in test_list],\n",
    "       [j for i, j in test_list]]\n",
    "print(\"Modified list is : \" + str(res))"
   ]
  },
  {
   "cell_type": "code",
   "execution_count": 6,
   "id": "a6872257",
   "metadata": {},
   "outputs": [
    {
     "name": "stdout",
     "output_type": "stream",
     "text": [
      "{'binjal': [10], 'jay': [12], 'jeeya': [14], 'abhi': [20], 'parth': [25], 'hetal': [30]}\n"
     ]
    }
   ],
   "source": [
    "#Write a Python program to convert a list of tuples into a dictionary. \n",
    "\n",
    "def Convert(tup, di):\n",
    "    for a, b in tup:\n",
    "        di.setdefault(a, []).append(b)\n",
    "    return di\n",
    "tups = [(\"binjal\", 10), (\"jay\", 12), (\"jeeya\", 14),\n",
    "     (\"abhi\", 20), (\"parth\", 25), (\"hetal\", 30)]\n",
    "dictionary = {}\n",
    "print (Convert(tups, dictionary))"
   ]
  },
  {
   "cell_type": "code",
   "execution_count": 8,
   "id": "796e1237",
   "metadata": {},
   "outputs": [
    {
     "name": "stdout",
     "output_type": "stream",
     "text": [
      "{'binjal': 24, 'jay': 28}\n"
     ]
    }
   ],
   "source": [
    "#How will you create a dictionary using tuples in python? \n",
    "\n",
    "data = ((24, \"binjal\"), (28, \"jay\"))\n",
    "final = dict((value, key) for key, value in data)\n",
    "print(final)"
   ]
  },
  {
   "cell_type": "code",
   "execution_count": 2,
   "id": "ef434f32",
   "metadata": {},
   "outputs": [
    {
     "name": "stdout",
     "output_type": "stream",
     "text": [
      "Original dictionary elements:\n",
      "{'Red': 1, 'Green': 3, 'Black': 5, 'White': 2, 'Pink': 4}\n",
      "\n",
      "Sort (ascending) the said dictionary elements by value:\n",
      "{'Red': 1, 'White': 2, 'Green': 3, 'Pink': 4, 'Black': 5}\n",
      "\n",
      "Sort (descending) the said dictionary elements by value:\n",
      "{'Black': 5, 'Pink': 4, 'Green': 3, 'White': 2, 'Red': 1}\n"
     ]
    }
   ],
   "source": [
    "#Write a Python script to sort (ascending and descending) a dictionary by value.\n",
    "\n",
    "def sort_dict_by_value(d, reverse = False):\n",
    "    return dict(sorted(d.items(), key = lambda x: x[1], reverse = reverse))\n",
    "print(\"Original dictionary elements:\")\n",
    "colors = {'Red': 1, 'Green': 3, 'Black': 5, 'White': 2, 'Pink': 4}\n",
    "print(colors)\n",
    "print(\"\\nSort (ascending) the said dictionary elements by value:\")\n",
    "print(sort_dict_by_value(colors))\n",
    "print(\"\\nSort (descending) the said dictionary elements by value:\")\n",
    "print(sort_dict_by_value(colors, True))"
   ]
  },
  {
   "cell_type": "code",
   "execution_count": 3,
   "id": "8c049762",
   "metadata": {},
   "outputs": [
    {
     "name": "stdout",
     "output_type": "stream",
     "text": [
      "{1: 10, 2: 20, 3: 30, 4: 40, 5: 50, 6: 60}\n"
     ]
    }
   ],
   "source": [
    "#Write a Python script to concatenate following dictionaries to create a new one. \n",
    "dic1={1:10, 2:20}\n",
    "dic2={3:30, 4:40}\n",
    "dic3={5:50,6:60}\n",
    "dic4 = {}\n",
    "for d in (dic1, dic2, dic3): dic4.update(d)\n",
    "print(dic4)"
   ]
  },
  {
   "cell_type": "code",
   "execution_count": 5,
   "id": "8a3d77c7",
   "metadata": {},
   "outputs": [
    {
     "name": "stdout",
     "output_type": "stream",
     "text": [
      "Present,  value = 200\n",
      "Not present\n"
     ]
    }
   ],
   "source": [
    "#Write a Python script to check if a given key already exists in a dictionary.\n",
    "def checkKey(dic, key):  \n",
    "    if key in dic:\n",
    "        print(\"Present, \", end =\" \")\n",
    "        print(\"value =\", dic[key])\n",
    "    else:\n",
    "        print(\"Not present\")\n",
    "dic = {'a': 100, 'b':200, 'c':300}\n",
    "key = 'b'\n",
    "checkKey(dic, key)\n",
    " \n",
    "key = 'w'\n",
    "checkKey(dic, key)\n"
   ]
  },
  {
   "cell_type": "code",
   "execution_count": null,
   "id": "1958e4fa",
   "metadata": {},
   "outputs": [],
   "source": [
    "#How Do You Traverse Through A Dictionary Object In Python? \n",
    "\n",
    "#Dictionaries are iterable objects, which means they can be traversed in the same way that any other object can.\n",
    "#A Python for loop is probably the simplest technique to traverse through a dictionary.\n",
    "#This loop allows you to iterate through each value in the dictionary one at a time."
   ]
  },
  {
   "cell_type": "code",
   "execution_count": null,
   "id": "28377bd1",
   "metadata": {},
   "outputs": [],
   "source": [
    "#How Do You Check The Presence Of A Key In A Dictionary? \n",
    "#There can be different ways for checking if the key already exists, we have covered the following approaches:\n",
    "\n",
    "#Using the Inbuilt method keys ()\n",
    "#Using if and in\n",
    "#Using has_key () method\n",
    "#Using get () method"
   ]
  },
  {
   "cell_type": "code",
   "execution_count": 6,
   "id": "d8315eec",
   "metadata": {},
   "outputs": [
    {
     "name": "stdout",
     "output_type": "stream",
     "text": [
      "{1: 1, 2: 4, 3: 9, 4: 16, 5: 25, 6: 36, 7: 49, 8: 64, 9: 81, 10: 100, 11: 121, 12: 144, 13: 169, 14: 196, 15: 225}\n"
     ]
    }
   ],
   "source": [
    "#Write a Python script to print a dictionary where the keys are numbers between 1 and 15. \n",
    "d=dict()\n",
    "for x in range(1,16):\n",
    "    d[x]=x**2\n",
    "print(d) "
   ]
  },
  {
   "cell_type": "code",
   "execution_count": 4,
   "id": "0276cd63",
   "metadata": {},
   "outputs": [
    {
     "name": "stdout",
     "output_type": "stream",
     "text": [
      "True\n",
      "False\n"
     ]
    }
   ],
   "source": [
    "#Write a Python program to check multiple keys exists in a dictionary \n",
    "sports = {\"binjal\" : 1, \"practice\" : 2, \"contribute\" :3}\n",
    "print(sports.keys() >= {\"binjal\", \"practice\"})\n",
    "print(sports.keys() >= {\"contribute\", \"ide\"})"
   ]
  },
  {
   "cell_type": "code",
   "execution_count": 8,
   "id": "2586b663",
   "metadata": {},
   "outputs": [
    {
     "name": "stdout",
     "output_type": "stream",
     "text": [
      "None\n",
      "{'d': 6, 'c': 4, 'a': 10, 'b': 8}\n"
     ]
    }
   ],
   "source": [
    "#Write a Python script to merge two Python dictionaries \n",
    "def Merge(dict1, dict2):\n",
    "    return(dict2.update(dict1))\n",
    "dict1 = {'a': 10, 'b': 8}\n",
    "dict2 = {'d': 6, 'c': 4}\n",
    "print(Merge(dict1, dict2))\n",
    "print(dict2)"
   ]
  },
  {
   "cell_type": "code",
   "execution_count": 8,
   "id": "1f987c53",
   "metadata": {},
   "outputs": [
    {
     "name": "stdout",
     "output_type": "stream",
     "text": [
      "Original key list is : ['binjal', 'jay', 'patel']\n",
      "Original value list is : [1, 5, 9]\n",
      "Resultant dictionary is : {'binjal': 1, 'jay': 5, 'patel': 9}\n"
     ]
    }
   ],
   "source": [
    "#Write a Python program to map two lists into a dictionary.\n",
    "keys = [\"binjal\", \"jay\", \"patel\"]\n",
    "values = [1, 5, 9]\n",
    " \n",
    "# Printing original keys-value lists\n",
    "print(\"Original key list is : \" + str(keys))\n",
    "print(\"Original value list is : \" + str(values))\n",
    " \n",
    "# using dictionary comprehension\n",
    "# to convert lists to dictionary\n",
    "res = {keys[i]: values[i] for i in range(len(keys))}\n",
    " \n",
    "# Printing resultant dictionary\n",
    "print(\"Resultant dictionary is : \" + str(res))"
   ]
  },
  {
   "cell_type": "code",
   "execution_count": null,
   "id": "baf861ca",
   "metadata": {},
   "outputs": [],
   "source": [
    " #Write a Python program to combine two dictionary adding values for common keys. \n",
    "d1 = {'a': 100, 'b': 200, 'c':300} o d2 = {'a': 300, 'b': 200,’d’:400} \n",
    "Sample output: Counter ({'a': 400, 'b': 400,’d’: 400, 'c': 300}). "
   ]
  },
  {
   "cell_type": "code",
   "execution_count": 21,
   "id": "89f8666d",
   "metadata": {},
   "outputs": [
    {
     "name": "stdout",
     "output_type": "stream",
     "text": [
      "Original List:  [{'V': 'S001'}, {'V': 'S002'}, {'VI': 'S001'}, {'VI': 'S005'}, {'VII': 'S005'}, {'V': 'S009'}, {'VIII': 'S007'}]\n",
      "Unique Values:  {'S007', 'S009', 'S001', 'S005', 'S002'}\n"
     ]
    }
   ],
   "source": [
    "#Write a Python program to print all unique values in a dictionary. \n",
    "L = [{\"V\":\"S001\"}, {\"V\": \"S002\"}, {\"VI\": \"S001\"}, {\"VI\": \"S005\"}, {\"VII\":\"S005\"}, {\"V\":\"S009\"},{\"VIII\":\"S007\"}]\n",
    "print(\"Original List: \",L)\n",
    "u_value = set( val for dic in L for val in dic.values())\n",
    "print(\"Unique Values: \",u_value)"
   ]
  },
  {
   "cell_type": "code",
   "execution_count": null,
   "id": "19fcd9a0",
   "metadata": {},
   "outputs": [],
   "source": [
    "#Why Do You Use the Zip () Method in Python? \n",
    "#zip() method takes iterable or containers and returns a single iterator object, having mapped values from all the containers. \n",
    "#It is used to map the similar index of multiple containers so that they can be used just using a single entity. "
   ]
  },
  {
   "cell_type": "code",
   "execution_count": null,
   "id": "d7b94789",
   "metadata": {},
   "outputs": [],
   "source": [
    "#Write a Python program to create and display all combinations of letters,\n",
    "selecting each letter from a different key in a dictionary. \n",
    "Sample data: {'1': ['a','b'], '2': ['c','d']} \n",
    "Expected Output: \n",
    "ac ad bc bd "
   ]
  },
  {
   "cell_type": "code",
   "execution_count": 20,
   "id": "96f4f002",
   "metadata": {},
   "outputs": [
    {
     "name": "stdout",
     "output_type": "stream",
     "text": [
      "Initial Dictionary:\n",
      "{'A': 67, 'B': 23, 'C': 45, 'D': 56, 'E': 12, 'F': 69} \n",
      "\n",
      "Dictionary with 3 highest values:\n",
      "Keys: Values\n",
      "F  : 69  \n",
      "A  : 67  \n",
      "D  : 56  \n"
     ]
    }
   ],
   "source": [
    "#Write a Python program to find the highest 3 values in a dictionary \n",
    "from collections import Counter\n",
    "\n",
    "my_dict = {'A': 67, 'B': 23, 'C': 45,\n",
    "           'D': 56, 'E': 12, 'F': 69}\n",
    "k = Counter(my_dict)\n",
    "high = k.most_common(3)\n",
    "print(\"Initial Dictionary:\")\n",
    "print(my_dict, \"\\n\")\n",
    "print(\"Dictionary with 3 highest values:\")\n",
    "print(\"Keys: Values\")\n",
    " \n",
    "for i in high:\n",
    "    print(i[0],\" :\",i[1],\" \")"
   ]
  },
  {
   "cell_type": "code",
   "execution_count": null,
   "id": "6a8dffe0",
   "metadata": {},
   "outputs": [],
   "source": [
    "# Write a Python program to combine values in python list of dictionaries. \n",
    "Sample data: [{'item': 'item1', 'amount': 400}, {'item': 'item2', 'amount': \n",
    "300}, o {'item': 'item1', 'amount': 750}] \n",
    "Expected Output:\n",
    "Counter ({'item1': 1150, 'item2': 300}) "
   ]
  },
  {
   "cell_type": "code",
   "execution_count": 12,
   "id": "f4d45b0c",
   "metadata": {},
   "outputs": [
    {
     "name": "stdout",
     "output_type": "stream",
     "text": [
      "{'11': 13, '12': 14, '13': 15}\n"
     ]
    }
   ],
   "source": [
    "#Write a Python program to create a dictionary from a string. \n",
    "Note: Track the count of the letters from the string. \n",
    "Sample string: 'w3resource' \n",
    "Expected output: \n",
    "{'3': 1,’s’: 1, 'r': 2, 'u': 1, 'w': 1, 'c': 1, 'e': 2, 'o': 1} \n",
    "\n",
    "string = \"11 - 13, 12 - 14, 13 - 15\"\n",
    " \n",
    "Dict = dict((x.strip(), int(y.strip()))\n",
    "             for x, y in (element.split('-')\n",
    "             for element in string.split(', ')))\n",
    " \n",
    "print(Dict)"
   ]
  },
  {
   "cell_type": "code",
   "execution_count": 18,
   "id": "c821c0ae",
   "metadata": {},
   "outputs": [
    {
     "name": "stdout",
     "output_type": "stream",
     "text": [
      "Input a number to compute the factiorial : 4\n",
      "24\n"
     ]
    }
   ],
   "source": [
    "#Write a Python function to calculate the factorial of a number (a nonnegative integer) \n",
    "def factorial(n):\n",
    "    if n == 0:\n",
    "        return 1\n",
    "    else:\n",
    "        return n * factorial(n-1)\n",
    "n=int(input(\"Input a number to compute the factiorial : \"))\n",
    "print(factorial(n))"
   ]
  },
  {
   "cell_type": "code",
   "execution_count": 10,
   "id": "aca42c62",
   "metadata": {},
   "outputs": [
    {
     "name": "stdout",
     "output_type": "stream",
     "text": [
      " 5 is in the range\n"
     ]
    }
   ],
   "source": [
    "#Write a Python function to check whether a number is in a given range\n",
    "def test_range(n):\n",
    "    if n in range(3,9):\n",
    "        print( \" %s is in the range\"%str(n))\n",
    "    else :\n",
    "        print(\"The number is outside the given range.\")\n",
    "test_range(5)\n"
   ]
  },
  {
   "cell_type": "code",
   "execution_count": 13,
   "id": "e5c4d544",
   "metadata": {},
   "outputs": [
    {
     "name": "stdout",
     "output_type": "stream",
     "text": [
      "Enter any number: 89\n",
      "The number is not a Perfect number!\n"
     ]
    }
   ],
   "source": [
    "#Write a Python function to check whether a number is perfect or not. \n",
    "n = int(input(\"Enter any number: \"))\n",
    "sum1 = 0\n",
    "for i in range(1, n):\n",
    "    if(n % i == 0):\n",
    "        sum1 = sum1 + i\n",
    "if (sum1 == n):\n",
    "    print(\"The number is a Perfect number!\")\n",
    "else:\n",
    "    print(\"The number is not a Perfect number!\")"
   ]
  },
  {
   "cell_type": "code",
   "execution_count": 17,
   "id": "d129526d",
   "metadata": {},
   "outputs": [
    {
     "name": "stdout",
     "output_type": "stream",
     "text": [
      "Number is palindrome\n"
     ]
    }
   ],
   "source": [
    "#Write a Python function that checks whether a passed string is palindrome or not \n",
    "def isPalindrome(s):\n",
    "    return s == s[::-1]\n",
    "s = \"malayalam\"\n",
    "ans = isPalindrome(s)\n",
    "  \n",
    "if ans:\n",
    "    print(\"Number is palindrome\")\n",
    "else:\n",
    "    print(\"Number is not palindrome\")"
   ]
  },
  {
   "cell_type": "code",
   "execution_count": null,
   "id": "fa121c97",
   "metadata": {},
   "outputs": [],
   "source": [
    "#How Many Basic Types Of Functions Are Available In Python?\n",
    "#There are two basic type of function in python.\n",
    "#1. user defined function 2. built in function."
   ]
  },
  {
   "cell_type": "code",
   "execution_count": null,
   "id": "d1bd7e32",
   "metadata": {},
   "outputs": [],
   "source": [
    "#How can you pick a random item from a list or tuple? \n",
    "#We can use the random.choice()  function if we want to select a random item from a list, tuple, or string. \n",
    "#This function accepts a sequential object like a list, string, and tuple as an argument\n",
    "#and returns a random item or element from them."
   ]
  },
  {
   "cell_type": "code",
   "execution_count": null,
   "id": "8c6a0566",
   "metadata": {},
   "outputs": [],
   "source": [
    "#How can you pick a random item from a range? \n",
    "#Give the lower limit and higher limit values of the range and store them in two separate variables.\n",
    "#Use the random.randint () function (Returns a random number within the specified range) to generate a random number\n",
    "#within the given range by passing minimum, and maximum numbers as arguments."
   ]
  },
  {
   "cell_type": "code",
   "execution_count": null,
   "id": "d669a412",
   "metadata": {},
   "outputs": [],
   "source": [
    "#How can you get a random number in python?\n",
    "#Python defines a set of functions that are used to generate or manipulate random numbers through the random module. \n",
    "#Functions in the random module rely on a pseudo-random number generator function random(), \n",
    "#which generates a random float number between 0.0 and 1.0. These particular\n",
    "#type of functions is used in a lot of games, lotteries, or any application requiring a random number generation."
   ]
  },
  {
   "cell_type": "code",
   "execution_count": null,
   "id": "61ea7fd6",
   "metadata": {},
   "outputs": [],
   "source": [
    "#How will you set the starting value in generating random numbers? \n",
    "#Python provides a function named randrange() in the random package that can produce random numbers from a given range \n",
    "#while still enabling spaces for steps to be included. The below example uses randrange() to randomly print integers.\n",
    "\n"
   ]
  },
  {
   "cell_type": "code",
   "execution_count": 1,
   "id": "49dbc20d",
   "metadata": {},
   "outputs": [
    {
     "name": "stdout",
     "output_type": "stream",
     "text": [
      "Original list :  [7, 14, 21, 28, 35, 42, 49, 56, 63, 70]\n",
      "List after first shuffle  :  [28, 63, 70, 35, 42, 56, 7, 49, 21, 14]\n",
      "List after second shuffle :  [14, 42, 49, 35, 7, 70, 28, 56, 63, 21]\n"
     ]
    }
   ],
   "source": [
    "#How will you randomizes the items of a list in place? \n",
    "import random\n",
    "number_list = [7, 14, 21, 28, 35, 42, 49, 56, 63, 70]\n",
    "print (\"Original list : \",  number_list)\n",
    "random.shuffle(number_list) #shuffle method\n",
    "print (\"List after first shuffle  : \",  number_list)\n",
    "random.shuffle(number_list)\n",
    "print (\"List after second shuffle : \",  number_list)"
   ]
  },
  {
   "cell_type": "code",
   "execution_count": 9,
   "id": "6b2cee31",
   "metadata": {},
   "outputs": [
    {
     "name": "stdout",
     "output_type": "stream",
     "text": [
      "newdata2\n"
     ]
    }
   ],
   "source": [
    "#Write a Python program to read a random line from a file.\n",
    "\n",
    "import random\n",
    "  \n",
    "# Open the file in read mode\n",
    "with open(\"demo1.txt\", \"r\") as file:\n",
    "    allText = file.read()\n",
    "    words = list(map(str, allText.split()))\n",
    "  \n",
    "    # print random string\n",
    "    print(random.choice(words))"
   ]
  },
  {
   "cell_type": "code",
   "execution_count": 10,
   "id": "5e3b6cfe",
   "metadata": {},
   "outputs": [
    {
     "name": "stdout",
     "output_type": "stream",
     "text": [
      "Input degrees: 14\n",
      "0.24444444444444446\n"
     ]
    }
   ],
   "source": [
    "#Write a Python program to convert degree to radian \n",
    "pi=22/7\n",
    "degree = float(input(\"Input degrees: \"))\n",
    "radian = degree*(pi/180)\n",
    "print(radian)\n"
   ]
  },
  {
   "cell_type": "code",
   "execution_count": 12,
   "id": "228b2543",
   "metadata": {},
   "outputs": [
    {
     "name": "stdout",
     "output_type": "stream",
     "text": [
      "Height of trapezoid: 78.89\n",
      "Base one value: 87\n",
      "Base two value: 6.89\n",
      "Area is: 3703.49105\n"
     ]
    }
   ],
   "source": [
    "#Write a Python program to calculate the area of a trapezoid \n",
    "base_1 = 5\n",
    "base_2 = 6\n",
    "height = float(input(\"Height of trapezoid: \"))\n",
    "base_1 = float(input('Base one value: '))\n",
    "base_2 = float(input('Base two value: '))\n",
    "area = ((base_1 + base_2) / 2) * height\n",
    "print(\"Area is:\", area)"
   ]
  },
  {
   "cell_type": "code",
   "execution_count": 13,
   "id": "33204299",
   "metadata": {},
   "outputs": [
    {
     "name": "stdout",
     "output_type": "stream",
     "text": [
      "Area of the parallelogram = 1200\n"
     ]
    }
   ],
   "source": [
    "#Write a Python program to calculate the area of a parallelogram \n",
    "base = 30\n",
    "height = 40 \n",
    "area_parallelogram = base * height\n",
    "print(\"Area of the parallelogram = \"+str(area_parallelogram))"
   ]
  },
  {
   "cell_type": "code",
   "execution_count": 14,
   "id": "f9dcf438",
   "metadata": {},
   "outputs": [
    {
     "name": "stdout",
     "output_type": "stream",
     "text": [
      "Height of cylinder: 67.87\n",
      "Radius of cylinder: 45.65\n",
      "Volume is:  444512.5773785714\n",
      "Surface Area is:  32573.753142857142\n"
     ]
    }
   ],
   "source": [
    "#Write a Python program to calculate surface volume and area of a cylinder\n",
    "pi=22/7\n",
    "height = float(input('Height of cylinder: '))\n",
    "radian = float(input('Radius of cylinder: '))\n",
    "volume = pi * radian * radian * height\n",
    "sur_area = ((2*pi*radian) * height) + ((pi*radian**2)*2)\n",
    "print(\"Volume is: \", volume)\n",
    "print(\"Surface Area is: \", sur_area)\n"
   ]
  },
  {
   "cell_type": "code",
   "execution_count": 15,
   "id": "477a7874",
   "metadata": {},
   "outputs": [
    {
     "name": "stdout",
     "output_type": "stream",
     "text": [
      "7\n",
      "16\n"
     ]
    }
   ],
   "source": [
    "#Write a Python program to returns sum of all divisors of a number\n",
    "def sum_div(number):\n",
    "    divisors = [1]\n",
    "    for i in range(2, number):\n",
    "        if (number % i)==0:\n",
    "            divisors.append(i)\n",
    "    return sum(divisors)\n",
    "print(sum_div(8))\n",
    "print(sum_div(12))"
   ]
  },
  {
   "cell_type": "code",
   "execution_count": 10,
   "id": "38cd620c",
   "metadata": {},
   "outputs": [
    {
     "name": "stdout",
     "output_type": "stream",
     "text": [
      "Maximum:  7.25\n",
      "Minimum:  0.04\n"
     ]
    }
   ],
   "source": [
    "#Write a Python program to find the maximum and minimum numbers from the specified decimal numbers.\n",
    "from decimal import *\n",
    "data = list(map(Decimal, '2.45 2.69 2.45 3.45 2.00 0.04 7.25'.split()))\n",
    "print(\"Maximum: \", max(data))\n",
    "print(\"Minimum: \", min(data))\n"
   ]
  }
 ],
 "metadata": {
  "kernelspec": {
   "display_name": "Python 3 (ipykernel)",
   "language": "python",
   "name": "python3"
  },
  "language_info": {
   "codemirror_mode": {
    "name": "ipython",
    "version": 3
   },
   "file_extension": ".py",
   "mimetype": "text/x-python",
   "name": "python",
   "nbconvert_exporter": "python",
   "pygments_lexer": "ipython3",
   "version": "3.9.13"
  }
 },
 "nbformat": 4,
 "nbformat_minor": 5
}
